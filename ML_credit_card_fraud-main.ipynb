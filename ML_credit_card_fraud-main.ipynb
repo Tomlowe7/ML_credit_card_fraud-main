{
 "cells": [
  {
   "cell_type": "markdown",
   "id": "99550487",
   "metadata": {},
   "source": [
    "# Credit Card Fraud Detection "
   ]
  },
  {
   "cell_type": "markdown",
   "id": "b1ee238e",
   "metadata": {},
   "source": [
    "Credit card fraud is a form of identity theft involving an unauthorized taking of another’s credit card information to charge purchases to the account or remove funds from it.\n",
    "Technological advances have also created avenues for credit card fraud. With the rise of online purchasing, perpetrators no longer need a physical card to make an unauthorized purchase. Additionally, electronic databases containing credit card data may be hacked or crash on their own, releasing customers' credit card information. These electronic database hacks put the security of many accounts at risk at once. <br/>\n",
    "<b> Goal: Create a model that would be able to detect as many fraud transactions as possible while with little false positives detections as possible."
   ]
  },
  {
   "cell_type": "code",
   "execution_count": 1,
   "id": "fbe075aa",
   "metadata": {
    "id": "fbe075aa"
   },
   "outputs": [
    {
     "name": "stderr",
     "output_type": "stream",
     "text": [
      "<frozen importlib._bootstrap>:219: RuntimeWarning: scipy._lib.messagestream.MessageStream size changed, may indicate binary incompatibility. Expected 56 from C header, got 64 from PyObject\n"
     ]
    }
   ],
   "source": [
    "import os\n",
    "os.environ[\"KMP_DUPLICATE_LIB_OK\"]=\"TRUE\"\n",
    "%matplotlib inline\n",
    "import tensorflow as tf\n",
    "import os\n",
    "import matplotlib.pyplot as plt, numpy as np,  pandas as pd\n",
    "from sklearn.preprocessing import MinMaxScaler\n",
    "import numpy as np\n",
    "from keras.models import Sequential\n",
    "from keras.layers import Dense, LSTM\n",
    "\n",
    "import ta\n",
    "from ta.volatility import BollingerBands\n",
    "root_notebook_folder = os.path.abspath('.')"
   ]
  },
  {
   "cell_type": "markdown",
   "id": "8b7dcf5a",
   "metadata": {
    "id": "8b7dcf5a"
   },
   "source": [
    "# Load Data"
   ]
  },
  {
   "cell_type": "code",
   "execution_count": 2,
   "id": "2d13b5ad",
   "metadata": {
    "colab": {
     "base_uri": "https://localhost:8080/",
     "height": 363
    },
    "id": "2d13b5ad",
    "outputId": "e4bfb152-9979-4ca6-90cc-9faaa20dbdab"
   },
   "outputs": [
    {
     "name": "stdout",
     "output_type": "stream",
     "text": [
      "Shape of the dataset: (284807, 31)\n"
     ]
    }
   ],
   "source": [
    "df=pd.read_csv(\"c:/Users/yairb/Desktop/jupyter/Machine_Learning/final_project/creditcard.csv\")\n",
    "\n",
    "# Shape of the dataset\n",
    "print(\"Shape of the dataset:\", df.shape)"
   ]
  },
  {
   "cell_type": "markdown",
   "id": "b64672f2",
   "metadata": {
    "id": "b64672f2"
   },
   "source": [
    "# EDA - Examine data, na and other issues handeling"
   ]
  },
  {
   "cell_type": "code",
   "execution_count": 3,
   "id": "7886bc4b",
   "metadata": {
    "colab": {
     "base_uri": "https://localhost:8080/",
     "height": 253
    },
    "id": "7886bc4b",
    "outputId": "0b100677-3123-455a-f05e-7bc1209451f7"
   },
   "outputs": [
    {
     "name": "stdout",
     "output_type": "stream",
     "text": [
      "Overview of the data:\n"
     ]
    },
    {
     "data": {
      "text/html": [
       "<div>\n",
       "<style scoped>\n",
       "    .dataframe tbody tr th:only-of-type {\n",
       "        vertical-align: middle;\n",
       "    }\n",
       "\n",
       "    .dataframe tbody tr th {\n",
       "        vertical-align: top;\n",
       "    }\n",
       "\n",
       "    .dataframe thead th {\n",
       "        text-align: right;\n",
       "    }\n",
       "</style>\n",
       "<table border=\"1\" class=\"dataframe\">\n",
       "  <thead>\n",
       "    <tr style=\"text-align: right;\">\n",
       "      <th></th>\n",
       "      <th>Time</th>\n",
       "      <th>V1</th>\n",
       "      <th>V2</th>\n",
       "      <th>V3</th>\n",
       "      <th>V4</th>\n",
       "      <th>V5</th>\n",
       "      <th>V6</th>\n",
       "      <th>V7</th>\n",
       "      <th>V8</th>\n",
       "      <th>V9</th>\n",
       "      <th>...</th>\n",
       "      <th>V21</th>\n",
       "      <th>V22</th>\n",
       "      <th>V23</th>\n",
       "      <th>V24</th>\n",
       "      <th>V25</th>\n",
       "      <th>V26</th>\n",
       "      <th>V27</th>\n",
       "      <th>V28</th>\n",
       "      <th>Amount</th>\n",
       "      <th>Class</th>\n",
       "    </tr>\n",
       "  </thead>\n",
       "  <tbody>\n",
       "    <tr>\n",
       "      <th>0</th>\n",
       "      <td>0.0</td>\n",
       "      <td>-1.359807</td>\n",
       "      <td>-0.072781</td>\n",
       "      <td>2.536347</td>\n",
       "      <td>1.378155</td>\n",
       "      <td>-0.338321</td>\n",
       "      <td>0.462388</td>\n",
       "      <td>0.239599</td>\n",
       "      <td>0.098698</td>\n",
       "      <td>0.363787</td>\n",
       "      <td>...</td>\n",
       "      <td>-0.018307</td>\n",
       "      <td>0.277838</td>\n",
       "      <td>-0.110474</td>\n",
       "      <td>0.066928</td>\n",
       "      <td>0.128539</td>\n",
       "      <td>-0.189115</td>\n",
       "      <td>0.133558</td>\n",
       "      <td>-0.021053</td>\n",
       "      <td>149.62</td>\n",
       "      <td>0</td>\n",
       "    </tr>\n",
       "    <tr>\n",
       "      <th>1</th>\n",
       "      <td>0.0</td>\n",
       "      <td>1.191857</td>\n",
       "      <td>0.266151</td>\n",
       "      <td>0.166480</td>\n",
       "      <td>0.448154</td>\n",
       "      <td>0.060018</td>\n",
       "      <td>-0.082361</td>\n",
       "      <td>-0.078803</td>\n",
       "      <td>0.085102</td>\n",
       "      <td>-0.255425</td>\n",
       "      <td>...</td>\n",
       "      <td>-0.225775</td>\n",
       "      <td>-0.638672</td>\n",
       "      <td>0.101288</td>\n",
       "      <td>-0.339846</td>\n",
       "      <td>0.167170</td>\n",
       "      <td>0.125895</td>\n",
       "      <td>-0.008983</td>\n",
       "      <td>0.014724</td>\n",
       "      <td>2.69</td>\n",
       "      <td>0</td>\n",
       "    </tr>\n",
       "    <tr>\n",
       "      <th>2</th>\n",
       "      <td>1.0</td>\n",
       "      <td>-1.358354</td>\n",
       "      <td>-1.340163</td>\n",
       "      <td>1.773209</td>\n",
       "      <td>0.379780</td>\n",
       "      <td>-0.503198</td>\n",
       "      <td>1.800499</td>\n",
       "      <td>0.791461</td>\n",
       "      <td>0.247676</td>\n",
       "      <td>-1.514654</td>\n",
       "      <td>...</td>\n",
       "      <td>0.247998</td>\n",
       "      <td>0.771679</td>\n",
       "      <td>0.909412</td>\n",
       "      <td>-0.689281</td>\n",
       "      <td>-0.327642</td>\n",
       "      <td>-0.139097</td>\n",
       "      <td>-0.055353</td>\n",
       "      <td>-0.059752</td>\n",
       "      <td>378.66</td>\n",
       "      <td>0</td>\n",
       "    </tr>\n",
       "    <tr>\n",
       "      <th>3</th>\n",
       "      <td>1.0</td>\n",
       "      <td>-0.966272</td>\n",
       "      <td>-0.185226</td>\n",
       "      <td>1.792993</td>\n",
       "      <td>-0.863291</td>\n",
       "      <td>-0.010309</td>\n",
       "      <td>1.247203</td>\n",
       "      <td>0.237609</td>\n",
       "      <td>0.377436</td>\n",
       "      <td>-1.387024</td>\n",
       "      <td>...</td>\n",
       "      <td>-0.108300</td>\n",
       "      <td>0.005274</td>\n",
       "      <td>-0.190321</td>\n",
       "      <td>-1.175575</td>\n",
       "      <td>0.647376</td>\n",
       "      <td>-0.221929</td>\n",
       "      <td>0.062723</td>\n",
       "      <td>0.061458</td>\n",
       "      <td>123.50</td>\n",
       "      <td>0</td>\n",
       "    </tr>\n",
       "    <tr>\n",
       "      <th>4</th>\n",
       "      <td>2.0</td>\n",
       "      <td>-1.158233</td>\n",
       "      <td>0.877737</td>\n",
       "      <td>1.548718</td>\n",
       "      <td>0.403034</td>\n",
       "      <td>-0.407193</td>\n",
       "      <td>0.095921</td>\n",
       "      <td>0.592941</td>\n",
       "      <td>-0.270533</td>\n",
       "      <td>0.817739</td>\n",
       "      <td>...</td>\n",
       "      <td>-0.009431</td>\n",
       "      <td>0.798278</td>\n",
       "      <td>-0.137458</td>\n",
       "      <td>0.141267</td>\n",
       "      <td>-0.206010</td>\n",
       "      <td>0.502292</td>\n",
       "      <td>0.219422</td>\n",
       "      <td>0.215153</td>\n",
       "      <td>69.99</td>\n",
       "      <td>0</td>\n",
       "    </tr>\n",
       "  </tbody>\n",
       "</table>\n",
       "<p>5 rows × 31 columns</p>\n",
       "</div>"
      ],
      "text/plain": [
       "   Time        V1        V2        V3        V4        V5        V6        V7  \\\n",
       "0   0.0 -1.359807 -0.072781  2.536347  1.378155 -0.338321  0.462388  0.239599   \n",
       "1   0.0  1.191857  0.266151  0.166480  0.448154  0.060018 -0.082361 -0.078803   \n",
       "2   1.0 -1.358354 -1.340163  1.773209  0.379780 -0.503198  1.800499  0.791461   \n",
       "3   1.0 -0.966272 -0.185226  1.792993 -0.863291 -0.010309  1.247203  0.237609   \n",
       "4   2.0 -1.158233  0.877737  1.548718  0.403034 -0.407193  0.095921  0.592941   \n",
       "\n",
       "         V8        V9  ...       V21       V22       V23       V24       V25  \\\n",
       "0  0.098698  0.363787  ... -0.018307  0.277838 -0.110474  0.066928  0.128539   \n",
       "1  0.085102 -0.255425  ... -0.225775 -0.638672  0.101288 -0.339846  0.167170   \n",
       "2  0.247676 -1.514654  ...  0.247998  0.771679  0.909412 -0.689281 -0.327642   \n",
       "3  0.377436 -1.387024  ... -0.108300  0.005274 -0.190321 -1.175575  0.647376   \n",
       "4 -0.270533  0.817739  ... -0.009431  0.798278 -0.137458  0.141267 -0.206010   \n",
       "\n",
       "        V26       V27       V28  Amount  Class  \n",
       "0 -0.189115  0.133558 -0.021053  149.62      0  \n",
       "1  0.125895 -0.008983  0.014724    2.69      0  \n",
       "2 -0.139097 -0.055353 -0.059752  378.66      0  \n",
       "3 -0.221929  0.062723  0.061458  123.50      0  \n",
       "4  0.502292  0.219422  0.215153   69.99      0  \n",
       "\n",
       "[5 rows x 31 columns]"
      ]
     },
     "execution_count": 3,
     "metadata": {},
     "output_type": "execute_result"
    }
   ],
   "source": [
    "# Overview of the data\n",
    "print(\"Overview of the data:\" )\n",
    "df.head()"
   ]
  },
  {
   "cell_type": "code",
   "execution_count": 4,
   "id": "4a56086b",
   "metadata": {
    "colab": {
     "base_uri": "https://localhost:8080/",
     "height": 411
    },
    "id": "4a56086b",
    "outputId": "4a498c8e-bc2d-4e53-e53e-df9e530a0201"
   },
   "outputs": [
    {
     "name": "stdout",
     "output_type": "stream",
     "text": [
      "Description of the dataset:\n"
     ]
    },
    {
     "data": {
      "text/html": [
       "<div>\n",
       "<style scoped>\n",
       "    .dataframe tbody tr th:only-of-type {\n",
       "        vertical-align: middle;\n",
       "    }\n",
       "\n",
       "    .dataframe tbody tr th {\n",
       "        vertical-align: top;\n",
       "    }\n",
       "\n",
       "    .dataframe thead th {\n",
       "        text-align: right;\n",
       "    }\n",
       "</style>\n",
       "<table border=\"1\" class=\"dataframe\">\n",
       "  <thead>\n",
       "    <tr style=\"text-align: right;\">\n",
       "      <th></th>\n",
       "      <th>Time</th>\n",
       "      <th>V1</th>\n",
       "      <th>V2</th>\n",
       "      <th>V3</th>\n",
       "      <th>V4</th>\n",
       "      <th>V5</th>\n",
       "      <th>V6</th>\n",
       "      <th>V7</th>\n",
       "      <th>V8</th>\n",
       "      <th>V9</th>\n",
       "      <th>...</th>\n",
       "      <th>V21</th>\n",
       "      <th>V22</th>\n",
       "      <th>V23</th>\n",
       "      <th>V24</th>\n",
       "      <th>V25</th>\n",
       "      <th>V26</th>\n",
       "      <th>V27</th>\n",
       "      <th>V28</th>\n",
       "      <th>Amount</th>\n",
       "      <th>Class</th>\n",
       "    </tr>\n",
       "  </thead>\n",
       "  <tbody>\n",
       "    <tr>\n",
       "      <th>count</th>\n",
       "      <td>284807.000000</td>\n",
       "      <td>2.848070e+05</td>\n",
       "      <td>2.848070e+05</td>\n",
       "      <td>2.848070e+05</td>\n",
       "      <td>2.848070e+05</td>\n",
       "      <td>2.848070e+05</td>\n",
       "      <td>2.848070e+05</td>\n",
       "      <td>2.848070e+05</td>\n",
       "      <td>2.848070e+05</td>\n",
       "      <td>2.848070e+05</td>\n",
       "      <td>...</td>\n",
       "      <td>2.848070e+05</td>\n",
       "      <td>2.848070e+05</td>\n",
       "      <td>2.848070e+05</td>\n",
       "      <td>2.848070e+05</td>\n",
       "      <td>2.848070e+05</td>\n",
       "      <td>2.848070e+05</td>\n",
       "      <td>2.848070e+05</td>\n",
       "      <td>2.848070e+05</td>\n",
       "      <td>284807.000000</td>\n",
       "      <td>284807.000000</td>\n",
       "    </tr>\n",
       "    <tr>\n",
       "      <th>mean</th>\n",
       "      <td>94813.859575</td>\n",
       "      <td>3.918649e-15</td>\n",
       "      <td>5.682686e-16</td>\n",
       "      <td>-8.761736e-15</td>\n",
       "      <td>2.811118e-15</td>\n",
       "      <td>-1.552103e-15</td>\n",
       "      <td>2.040130e-15</td>\n",
       "      <td>-1.698953e-15</td>\n",
       "      <td>-1.893285e-16</td>\n",
       "      <td>-3.147640e-15</td>\n",
       "      <td>...</td>\n",
       "      <td>1.473120e-16</td>\n",
       "      <td>8.042109e-16</td>\n",
       "      <td>5.282512e-16</td>\n",
       "      <td>4.456271e-15</td>\n",
       "      <td>1.426896e-15</td>\n",
       "      <td>1.701640e-15</td>\n",
       "      <td>-3.662252e-16</td>\n",
       "      <td>-1.217809e-16</td>\n",
       "      <td>88.349619</td>\n",
       "      <td>0.001727</td>\n",
       "    </tr>\n",
       "    <tr>\n",
       "      <th>std</th>\n",
       "      <td>47488.145955</td>\n",
       "      <td>1.958696e+00</td>\n",
       "      <td>1.651309e+00</td>\n",
       "      <td>1.516255e+00</td>\n",
       "      <td>1.415869e+00</td>\n",
       "      <td>1.380247e+00</td>\n",
       "      <td>1.332271e+00</td>\n",
       "      <td>1.237094e+00</td>\n",
       "      <td>1.194353e+00</td>\n",
       "      <td>1.098632e+00</td>\n",
       "      <td>...</td>\n",
       "      <td>7.345240e-01</td>\n",
       "      <td>7.257016e-01</td>\n",
       "      <td>6.244603e-01</td>\n",
       "      <td>6.056471e-01</td>\n",
       "      <td>5.212781e-01</td>\n",
       "      <td>4.822270e-01</td>\n",
       "      <td>4.036325e-01</td>\n",
       "      <td>3.300833e-01</td>\n",
       "      <td>250.120109</td>\n",
       "      <td>0.041527</td>\n",
       "    </tr>\n",
       "    <tr>\n",
       "      <th>min</th>\n",
       "      <td>0.000000</td>\n",
       "      <td>-5.640751e+01</td>\n",
       "      <td>-7.271573e+01</td>\n",
       "      <td>-4.832559e+01</td>\n",
       "      <td>-5.683171e+00</td>\n",
       "      <td>-1.137433e+02</td>\n",
       "      <td>-2.616051e+01</td>\n",
       "      <td>-4.355724e+01</td>\n",
       "      <td>-7.321672e+01</td>\n",
       "      <td>-1.343407e+01</td>\n",
       "      <td>...</td>\n",
       "      <td>-3.483038e+01</td>\n",
       "      <td>-1.093314e+01</td>\n",
       "      <td>-4.480774e+01</td>\n",
       "      <td>-2.836627e+00</td>\n",
       "      <td>-1.029540e+01</td>\n",
       "      <td>-2.604551e+00</td>\n",
       "      <td>-2.256568e+01</td>\n",
       "      <td>-1.543008e+01</td>\n",
       "      <td>0.000000</td>\n",
       "      <td>0.000000</td>\n",
       "    </tr>\n",
       "    <tr>\n",
       "      <th>25%</th>\n",
       "      <td>54201.500000</td>\n",
       "      <td>-9.203734e-01</td>\n",
       "      <td>-5.985499e-01</td>\n",
       "      <td>-8.903648e-01</td>\n",
       "      <td>-8.486401e-01</td>\n",
       "      <td>-6.915971e-01</td>\n",
       "      <td>-7.682956e-01</td>\n",
       "      <td>-5.540759e-01</td>\n",
       "      <td>-2.086297e-01</td>\n",
       "      <td>-6.430976e-01</td>\n",
       "      <td>...</td>\n",
       "      <td>-2.283949e-01</td>\n",
       "      <td>-5.423504e-01</td>\n",
       "      <td>-1.618463e-01</td>\n",
       "      <td>-3.545861e-01</td>\n",
       "      <td>-3.171451e-01</td>\n",
       "      <td>-3.269839e-01</td>\n",
       "      <td>-7.083953e-02</td>\n",
       "      <td>-5.295979e-02</td>\n",
       "      <td>5.600000</td>\n",
       "      <td>0.000000</td>\n",
       "    </tr>\n",
       "    <tr>\n",
       "      <th>50%</th>\n",
       "      <td>84692.000000</td>\n",
       "      <td>1.810880e-02</td>\n",
       "      <td>6.548556e-02</td>\n",
       "      <td>1.798463e-01</td>\n",
       "      <td>-1.984653e-02</td>\n",
       "      <td>-5.433583e-02</td>\n",
       "      <td>-2.741871e-01</td>\n",
       "      <td>4.010308e-02</td>\n",
       "      <td>2.235804e-02</td>\n",
       "      <td>-5.142873e-02</td>\n",
       "      <td>...</td>\n",
       "      <td>-2.945017e-02</td>\n",
       "      <td>6.781943e-03</td>\n",
       "      <td>-1.119293e-02</td>\n",
       "      <td>4.097606e-02</td>\n",
       "      <td>1.659350e-02</td>\n",
       "      <td>-5.213911e-02</td>\n",
       "      <td>1.342146e-03</td>\n",
       "      <td>1.124383e-02</td>\n",
       "      <td>22.000000</td>\n",
       "      <td>0.000000</td>\n",
       "    </tr>\n",
       "    <tr>\n",
       "      <th>75%</th>\n",
       "      <td>139320.500000</td>\n",
       "      <td>1.315642e+00</td>\n",
       "      <td>8.037239e-01</td>\n",
       "      <td>1.027196e+00</td>\n",
       "      <td>7.433413e-01</td>\n",
       "      <td>6.119264e-01</td>\n",
       "      <td>3.985649e-01</td>\n",
       "      <td>5.704361e-01</td>\n",
       "      <td>3.273459e-01</td>\n",
       "      <td>5.971390e-01</td>\n",
       "      <td>...</td>\n",
       "      <td>1.863772e-01</td>\n",
       "      <td>5.285536e-01</td>\n",
       "      <td>1.476421e-01</td>\n",
       "      <td>4.395266e-01</td>\n",
       "      <td>3.507156e-01</td>\n",
       "      <td>2.409522e-01</td>\n",
       "      <td>9.104512e-02</td>\n",
       "      <td>7.827995e-02</td>\n",
       "      <td>77.165000</td>\n",
       "      <td>0.000000</td>\n",
       "    </tr>\n",
       "    <tr>\n",
       "      <th>max</th>\n",
       "      <td>172792.000000</td>\n",
       "      <td>2.454930e+00</td>\n",
       "      <td>2.205773e+01</td>\n",
       "      <td>9.382558e+00</td>\n",
       "      <td>1.687534e+01</td>\n",
       "      <td>3.480167e+01</td>\n",
       "      <td>7.330163e+01</td>\n",
       "      <td>1.205895e+02</td>\n",
       "      <td>2.000721e+01</td>\n",
       "      <td>1.559499e+01</td>\n",
       "      <td>...</td>\n",
       "      <td>2.720284e+01</td>\n",
       "      <td>1.050309e+01</td>\n",
       "      <td>2.252841e+01</td>\n",
       "      <td>4.584549e+00</td>\n",
       "      <td>7.519589e+00</td>\n",
       "      <td>3.517346e+00</td>\n",
       "      <td>3.161220e+01</td>\n",
       "      <td>3.384781e+01</td>\n",
       "      <td>25691.160000</td>\n",
       "      <td>1.000000</td>\n",
       "    </tr>\n",
       "  </tbody>\n",
       "</table>\n",
       "<p>8 rows × 31 columns</p>\n",
       "</div>"
      ],
      "text/plain": [
       "                Time            V1            V2            V3            V4  \\\n",
       "count  284807.000000  2.848070e+05  2.848070e+05  2.848070e+05  2.848070e+05   \n",
       "mean    94813.859575  3.918649e-15  5.682686e-16 -8.761736e-15  2.811118e-15   \n",
       "std     47488.145955  1.958696e+00  1.651309e+00  1.516255e+00  1.415869e+00   \n",
       "min         0.000000 -5.640751e+01 -7.271573e+01 -4.832559e+01 -5.683171e+00   \n",
       "25%     54201.500000 -9.203734e-01 -5.985499e-01 -8.903648e-01 -8.486401e-01   \n",
       "50%     84692.000000  1.810880e-02  6.548556e-02  1.798463e-01 -1.984653e-02   \n",
       "75%    139320.500000  1.315642e+00  8.037239e-01  1.027196e+00  7.433413e-01   \n",
       "max    172792.000000  2.454930e+00  2.205773e+01  9.382558e+00  1.687534e+01   \n",
       "\n",
       "                 V5            V6            V7            V8            V9  \\\n",
       "count  2.848070e+05  2.848070e+05  2.848070e+05  2.848070e+05  2.848070e+05   \n",
       "mean  -1.552103e-15  2.040130e-15 -1.698953e-15 -1.893285e-16 -3.147640e-15   \n",
       "std    1.380247e+00  1.332271e+00  1.237094e+00  1.194353e+00  1.098632e+00   \n",
       "min   -1.137433e+02 -2.616051e+01 -4.355724e+01 -7.321672e+01 -1.343407e+01   \n",
       "25%   -6.915971e-01 -7.682956e-01 -5.540759e-01 -2.086297e-01 -6.430976e-01   \n",
       "50%   -5.433583e-02 -2.741871e-01  4.010308e-02  2.235804e-02 -5.142873e-02   \n",
       "75%    6.119264e-01  3.985649e-01  5.704361e-01  3.273459e-01  5.971390e-01   \n",
       "max    3.480167e+01  7.330163e+01  1.205895e+02  2.000721e+01  1.559499e+01   \n",
       "\n",
       "       ...           V21           V22           V23           V24  \\\n",
       "count  ...  2.848070e+05  2.848070e+05  2.848070e+05  2.848070e+05   \n",
       "mean   ...  1.473120e-16  8.042109e-16  5.282512e-16  4.456271e-15   \n",
       "std    ...  7.345240e-01  7.257016e-01  6.244603e-01  6.056471e-01   \n",
       "min    ... -3.483038e+01 -1.093314e+01 -4.480774e+01 -2.836627e+00   \n",
       "25%    ... -2.283949e-01 -5.423504e-01 -1.618463e-01 -3.545861e-01   \n",
       "50%    ... -2.945017e-02  6.781943e-03 -1.119293e-02  4.097606e-02   \n",
       "75%    ...  1.863772e-01  5.285536e-01  1.476421e-01  4.395266e-01   \n",
       "max    ...  2.720284e+01  1.050309e+01  2.252841e+01  4.584549e+00   \n",
       "\n",
       "                V25           V26           V27           V28         Amount  \\\n",
       "count  2.848070e+05  2.848070e+05  2.848070e+05  2.848070e+05  284807.000000   \n",
       "mean   1.426896e-15  1.701640e-15 -3.662252e-16 -1.217809e-16      88.349619   \n",
       "std    5.212781e-01  4.822270e-01  4.036325e-01  3.300833e-01     250.120109   \n",
       "min   -1.029540e+01 -2.604551e+00 -2.256568e+01 -1.543008e+01       0.000000   \n",
       "25%   -3.171451e-01 -3.269839e-01 -7.083953e-02 -5.295979e-02       5.600000   \n",
       "50%    1.659350e-02 -5.213911e-02  1.342146e-03  1.124383e-02      22.000000   \n",
       "75%    3.507156e-01  2.409522e-01  9.104512e-02  7.827995e-02      77.165000   \n",
       "max    7.519589e+00  3.517346e+00  3.161220e+01  3.384781e+01   25691.160000   \n",
       "\n",
       "               Class  \n",
       "count  284807.000000  \n",
       "mean        0.001727  \n",
       "std         0.041527  \n",
       "min         0.000000  \n",
       "25%         0.000000  \n",
       "50%         0.000000  \n",
       "75%         0.000000  \n",
       "max         1.000000  \n",
       "\n",
       "[8 rows x 31 columns]"
      ]
     },
     "execution_count": 4,
     "metadata": {},
     "output_type": "execute_result"
    }
   ],
   "source": [
    "print(\"Description of the dataset:\" )\n",
    "df.describe()"
   ]
  },
  {
   "cell_type": "markdown",
   "id": "15b511c4",
   "metadata": {},
   "source": [
    "Features V1 to V28 are the principal components obtained by Principal Component Analysis (PCA). <br/>\n",
    "The only features that have not been transformed by PCA are 'Time' and 'Amount’. <br/>\n",
    "Feature 'Time' contains the seconds elapsed between each transaction and the first transaction in the dataset.  <br/>\n",
    "Feature 'Amount' is the transaction amount. This feature can be used for example-dependent cost-sensitive learning. <br/>\n",
    "Feature 'Class' is the response variable and it takes the value 1 in case of fraud and 0 otherwise.<br/>\n",
    "\n"
   ]
  },
  {
   "cell_type": "markdown",
   "id": "a3c5b67a",
   "metadata": {},
   "source": [
    "Time = Amount of time (sec) between this transaction and the dataset's first transaction. <br/>\n",
    "Amount = Transaction amount in USD. <br/>\n",
    "Class = 1 for fraudulent transactions, 0 for non-fraudulent. <br/>\n"
   ]
  },
  {
   "cell_type": "code",
   "execution_count": 5,
   "id": "b31e7914",
   "metadata": {
    "colab": {
     "base_uri": "https://localhost:8080/"
    },
    "id": "b31e7914",
    "outputId": "1a95bd4e-dc1c-4db3-a51d-5548761061f1"
   },
   "outputs": [
    {
     "name": "stdout",
     "output_type": "stream",
     "text": [
      "Class counts: \n",
      " 0    284315\n",
      "1       492\n",
      "Name: Class, dtype: int64\n",
      "\n",
      "Class counts percentage: \n",
      " 0    99.827251\n",
      "1     0.172749\n",
      "Name: Class, dtype: float64\n"
     ]
    }
   ],
   "source": [
    "# Calculating the class counts and percentage\n",
    "class_counts = df['Class'].value_counts()\n",
    "class_counts_percentage = df['Class'].value_counts(normalize=True) * 100\n",
    "\n",
    "# Printing the class counts and percentage\n",
    "print(\"Class counts: \\n\", class_counts)\n",
    "print(\"\\nClass counts percentage: \\n\", class_counts_percentage)"
   ]
  },
  {
   "cell_type": "code",
   "execution_count": 6,
   "id": "OrQSYGvPXpTH",
   "metadata": {
    "colab": {
     "base_uri": "https://localhost:8080/",
     "height": 783
    },
    "id": "OrQSYGvPXpTH",
    "outputId": "9dea90c9-241c-4fdb-b985-3de53cfbb605"
   },
   "outputs": [
    {
     "data": {
      "image/png": "[encoded data removed]",
      "text/plain": [
       "<Figure size 576x432 with 1 Axes>"
      ]
     },
     "metadata": {
      "needs_background": "light"
     },
     "output_type": "display_data"
    },
    {
     "data": {
      "image/png": "[encoded data removed]",
      "text/plain": [
       "<Figure size 576x432 with 1 Axes>"
      ]
     },
     "metadata": {
      "needs_background": "light"
     },
     "output_type": "display_data"
    }
   ],
   "source": [
    "# Calculate the class counts and percentage\n",
    "class_counts = df['Class'].value_counts()\n",
    "class_counts_percentage = df['Class'].value_counts(normalize=True) * 100\n",
    "\n",
    "# Create a bar chart of the class counts\n",
    "fig, ax = plt.subplots(figsize=(8, 6))\n",
    "class_counts.plot(kind='bar', ax=ax)\n",
    "ax.set_xlabel('Class')\n",
    "ax.set_ylabel('Count')\n",
    "ax.set_title('Class Counts')\n",
    "\n",
    "# Create a bar chart of the class percentages\n",
    "fig, ax = plt.subplots(figsize=(8, 6))\n",
    "class_counts_percentage.plot(kind='bar', ax=ax)\n",
    "ax.set_xlabel('Class')\n",
    "ax.set_ylabel('Percentage')\n",
    "ax.set_title('Class Counts Percentage')\n",
    "\n",
    "plt.show()"
   ]
  },
  {
   "cell_type": "code",
   "execution_count": 7,
   "id": "59fc53a9",
   "metadata": {
    "colab": {
     "base_uri": "https://localhost:8080/"
    },
    "id": "59fc53a9",
    "outputId": "33d8dead-385d-46c4-f4e8-a0ccbada49cc"
   },
   "outputs": [
    {
     "name": "stdout",
     "output_type": "stream",
     "text": [
      "Time      0\n",
      "V1        0\n",
      "V2        0\n",
      "V3        0\n",
      "V4        0\n",
      "V5        0\n",
      "V6        0\n",
      "V7        0\n",
      "V8        0\n",
      "V9        0\n",
      "V10       0\n",
      "V11       0\n",
      "V12       0\n",
      "V13       0\n",
      "V14       0\n",
      "V15       0\n",
      "V16       0\n",
      "V17       0\n",
      "V18       0\n",
      "V19       0\n",
      "V20       0\n",
      "V21       0\n",
      "V22       0\n",
      "V23       0\n",
      "V24       0\n",
      "V25       0\n",
      "V26       0\n",
      "V27       0\n",
      "V28       0\n",
      "Amount    0\n",
      "Class     0\n",
      "dtype: int64\n"
     ]
    }
   ],
   "source": [
    "missing_values = df.isna().sum()\n",
    "print(missing_values)"
   ]
  },
  {
   "cell_type": "markdown",
   "id": "4bff2184",
   "metadata": {
    "id": "4bff2184"
   },
   "source": [
    "# Data is highly in-balanced\n",
    "Since the data is imbalanced we want to look at some examples of fraud and the transactions surround it (especially amount),\n",
    "The next block of code would find a random row and show +10 -10 rows to see if we can learn something from it.<br/>\n",
    "<br/>\n",
    "With the random module, which defines a series of functions for generating or manipulating random integers, we found a random row and displayed +10 -10 rows to see if we can learn something from it.\n",
    "\n",
    "\n",
    "At first we thought to use LSTM (because we have time variable), but from looking at a few examples of the surrounding we are not sure we can learn something from the the short long term memory (we might try it the comming block anyway to see results)."
   ]
  },
  {
   "cell_type": "code",
   "execution_count": 8,
   "id": "1e2c927c",
   "metadata": {
    "colab": {
     "base_uri": "https://localhost:8080/"
    },
    "id": "1e2c927c",
    "outputId": "6ee60b09-9871-4713-9dea-bc2923956451"
   },
   "outputs": [
    {
     "name": "stdout",
     "output_type": "stream",
     "text": [
      "          Time        V1        V2        V3        V4        V5        V6  \\\n",
      "42508  41131.0  1.156724  0.411155  0.915068  2.512448 -0.496515 -0.436129   \n",
      "42509  41131.0  1.000271 -0.423185 -0.531108  0.036118 -0.223229 -0.869147   \n",
      "42510  41131.0  0.985519 -0.269804  0.208367  1.335693 -0.043395  0.541378   \n",
      "42511  41132.0  1.003637 -0.018312  0.452091  1.371796 -0.258568  0.036184   \n",
      "42512  41132.0 -6.101865 -0.636512 -1.674518 -2.083112  0.326079  3.924192   \n",
      "42513  41132.0 -0.016794 -2.918607  0.446361  0.279370 -2.223003 -0.017006   \n",
      "42514  41132.0 -0.085937  0.765550  0.812350 -0.112019  0.979286  0.421810   \n",
      "42515  41133.0 -0.408107  0.319658  1.742653 -0.158505 -0.196878  0.053513   \n",
      "42516  41133.0 -1.228422 -1.087696  0.754738 -3.410095  1.940582  3.449068   \n",
      "42517  41134.0 -0.607942  1.469226  1.019786  1.071922 -0.300360  0.690396   \n",
      "42518  41134.0 -0.358531 -3.299624 -0.449188  0.164035 -2.080510 -0.934562   \n",
      "42519  41134.0 -0.748217 -0.900273  2.334042 -1.375251 -1.223612  0.493477   \n",
      "42520  41134.0  1.099512 -0.665950 -0.039928 -0.691920 -0.052799  1.279753   \n",
      "42521  41135.0 -0.301658 -0.330857  0.441789 -2.326316 -0.798476 -1.011862   \n",
      "42522  41136.0  1.082376 -0.032505  0.255769  1.254741 -0.116839  0.068101   \n",
      "42523  41137.0 -0.594316  0.055491  1.683360 -1.837650 -0.036535 -0.484533   \n",
      "42524  41137.0  0.498211 -1.892222 -0.900307 -0.605104  0.934086  4.015458   \n",
      "42525  41137.0  1.444081 -1.047019  0.958303 -1.235228 -1.928230 -0.961102   \n",
      "42526  41137.0 -0.738690  1.212986  1.050740  1.402999 -0.514735 -0.436859   \n",
      "42527  41137.0  1.073398 -0.804514  0.674131 -1.391437 -1.153787 -0.365696   \n",
      "42528  41138.0 -4.595617  5.083690 -7.581015  7.546033 -6.949165 -1.729185   \n",
      "42529  41138.0 -0.431674  0.036375  1.125577 -1.253363  0.379716  0.062079   \n",
      "42530  41139.0  0.692932  1.822347 -3.252257  1.608846  1.010644  0.571296   \n",
      "42531  41139.0  1.260533  0.234902  0.505987  0.929921 -0.177092 -0.162996   \n",
      "42532  41139.0  1.170740 -0.815817  0.199505 -0.630135 -1.123610 -0.942883   \n",
      "42533  41140.0  1.070629 -0.478203  1.109563  0.212465 -1.184763 -0.403867   \n",
      "42534  41141.0  1.156406 -0.269031  0.873254  0.489989 -0.399776  0.999863   \n",
      "42535  41141.0  1.214030 -1.476308  0.794102 -1.486515 -1.564801  0.343584   \n",
      "42536  41141.0  1.081599 -0.927924  0.684222 -1.311362 -1.302064 -0.309081   \n",
      "42537  41142.0 -0.855529  0.056342  0.597761  0.022470  2.007376 -0.813009   \n",
      "42538  41142.0  1.172413  0.659021 -0.022943  2.238594  0.618110  0.143063   \n",
      "42539  41142.0 -2.824595  2.376150 -0.597722 -1.253762 -1.713890 -1.275987   \n",
      "42540  41142.0  0.961348 -1.026017  0.865834 -1.154920 -1.572796 -0.589645   \n",
      "42541  41142.0 -1.646015 -1.375251  1.499748  0.728721  1.233837 -1.203843   \n",
      "42542  41144.0 -1.358491 -0.535583  0.503788 -0.577362 -1.351071  1.092721   \n",
      "42543  41144.0  0.881785 -0.759807  1.776891  1.629804 -1.433623  1.133029   \n",
      "42544  41145.0 -0.562835  0.924841 -0.390203 -1.134495  2.523404  3.273111   \n",
      "42545  41146.0 -1.392995 -0.287633  2.176013  0.108711 -0.607705 -0.625178   \n",
      "42546  41146.0  0.927238 -0.559011  0.474561  0.232598 -0.962981 -0.915566   \n",
      "42547  41146.0  1.078749 -0.890326  0.790048 -1.111991 -1.508896 -0.809051   \n",
      "42548  41147.0  1.112602 -0.968568  0.567911 -1.216909 -1.353910 -0.556216   \n",
      "\n",
      "             V7        V8        V9  ...       V21       V22       V23  \\\n",
      "42508 -0.141861  0.028122 -0.384754  ... -0.106942 -0.440053  0.082861   \n",
      "42509  0.459617 -0.207682 -0.239497  ...  0.063967 -0.233651 -0.263793   \n",
      "42510 -0.022901  0.084281  0.548382  ... -0.036895 -0.065268 -0.279033   \n",
      "42511  0.032397  0.111053  0.031996  ... -0.005688  0.055145 -0.095426   \n",
      "42512 -1.214308  1.041938  0.887243  ... -0.770365 -1.123930 -0.433286   \n",
      "42513 -0.049240 -0.211166 -0.207905  ... -0.160700 -1.240099 -0.462037   \n",
      "42514  1.105044 -0.207747 -0.538615  ... -0.463343 -1.234500  0.103865   \n",
      "42515  0.188419  0.179876 -0.394633  ... -0.094961 -0.147843  0.145273   \n",
      "42516  0.061047  0.835432  1.378562  ...  0.009293 -0.207021  0.078222   \n",
      "42517 -0.819475 -3.174810 -0.209909  ...  2.665409 -2.208194  0.018639   \n",
      "42518  0.734327 -0.511827 -0.976163  ...  0.720427 -0.035679 -0.807185   \n",
      "42519 -0.530873  0.397745 -0.265374  ...  0.401917  1.034959  0.076401   \n",
      "42520 -0.865009  0.545659 -0.889004  ...  0.107897  0.375372  0.077573   \n",
      "42521 -0.665696  0.246061 -2.320148  ...  0.001274  0.194737  0.118346   \n",
      "42522  0.008767  0.069216  0.378071  ... -0.187855 -0.565284 -0.054779   \n",
      "42523  0.837040 -0.144630  1.363771  ... -0.009370  0.308386 -0.329170   \n",
      "42524 -0.705951  0.950986  1.028798  ... -0.046214 -0.928515 -0.305908   \n",
      "42525 -1.156478 -0.222472 -1.771117  ... -0.017546  0.373461  0.013454   \n",
      "42526  0.358377  0.454006 -0.291414  ... -0.019752  0.046749 -0.051586   \n",
      "42527 -0.592473  0.053715  1.572847  ...  0.074370  0.248033 -0.157482   \n",
      "42528 -8.190192  2.714670 -7.083169  ...  2.248971  0.566844  0.033744   \n",
      "42529  0.721553 -0.047868  0.316913  ...  0.331992  1.148207 -0.021971   \n",
      "42530 -2.041383 -5.135264 -0.742822  ... -2.717251  0.272438  0.309680   \n",
      "42531 -0.175343 -0.087419  0.220015  ...  0.091111  0.368346 -0.202221   \n",
      "42532 -0.367256 -0.148545 -1.095775  ...  0.332706  0.599037 -0.184232   \n",
      "42533 -0.500055 -0.052021  0.882055  ... -0.056685 -0.078520 -0.022353   \n",
      "42534 -0.809629  0.403350  0.696007  ... -0.067496  0.011609 -0.062812   \n",
      "42535 -1.350388  0.126554 -1.939258  ... -0.022550  0.143092 -0.038154   \n",
      "42536 -0.729375  0.167609  1.937094  ... -0.005691  0.023471 -0.129895   \n",
      "42537  0.386781 -0.085234 -0.454212  ...  0.183096  0.311376 -0.108463   \n",
      "42538  0.377312  0.022806 -1.302248  ...  0.041259  0.108190 -0.125425   \n",
      "42539 -1.068115  1.801211 -0.378923  ...  0.199045 -0.107397  0.249088   \n",
      "42540 -0.637580  0.102818  1.843413  ...  0.059275  0.126892 -0.106225   \n",
      "42541  0.353360 -0.050635  0.000525  ...  0.182409  0.050853  0.629311   \n",
      "42542  1.374525  0.681414 -0.358355  ...  0.154878 -0.321092  1.094902   \n",
      "42543 -1.230739  0.659543  1.717024  ...  0.042482  0.430437 -0.088514   \n",
      "42544  0.112183  0.856769 -0.365183  ... -0.287380 -1.006896 -0.015687   \n",
      "42545 -1.126398  0.709798 -0.343124  ...  0.508177  1.030568 -0.070578   \n",
      "42546  0.025188 -0.186889  0.311962  ... -0.140679 -0.835771  0.022626   \n",
      "42547 -0.588054 -0.016311  2.138582  ... -0.026255 -0.017112 -0.090853   \n",
      "42548 -0.658602  0.064626  2.308934  ... -0.068902 -0.180555 -0.141631   \n",
      "\n",
      "            V24       V25       V26       V27       V28  Amount  Class  \n",
      "42508  0.325173  0.251069 -0.126533 -0.005867  0.028982   11.53      0  \n",
      "42509  0.071232  0.471274  1.060249 -0.154507  0.002382  163.65      0  \n",
      "42510 -0.738868  0.707212 -0.229475  0.035508  0.031550  120.90      0  \n",
      "42511  0.231188  0.581175 -0.347550  0.025390  0.016841   62.00      0  \n",
      "42512  1.106859 -0.211049  0.112026 -3.684647  0.010802   75.80      0  \n",
      "42513  0.498116 -0.177251  0.833549 -0.127012  0.143261  699.35      0  \n",
      "42514 -1.350586 -0.763329  0.055700 -0.052545 -0.076853   46.90      0  \n",
      "42515  0.320068 -0.845212  1.262314  0.064881  0.127831   29.00      0  \n",
      "42516  1.023852  0.643401 -0.165401 -0.177028 -0.142636  172.00      0  \n",
      "42517 -0.541693  1.255768 -0.307189  0.247978  0.171872   34.00      0  \n",
      "42518  0.788158  0.134678 -0.325570 -0.163797  0.177473  916.14      0  \n",
      "42519  0.041253 -0.182301 -0.270359  0.129831  0.147951  125.76      0  \n",
      "42520 -1.094331  0.116777 -0.192547  0.083177  0.018163   42.79      0  \n",
      "42521 -0.167633 -1.015395 -0.520777  0.131423  0.126200    4.09      0  \n",
      "42522 -0.469294  0.468701 -0.440239  0.026952  0.026082   66.90      0  \n",
      "42523  0.094279  0.854332 -0.684901 -0.150832 -0.250256   50.00      0  \n",
      "42524  1.097743  0.149144  0.915416 -0.106629  0.076814  406.41      0  \n",
      "42525  0.744510  0.324718 -0.129072  0.055653  0.035731   29.00      0  \n",
      "42526  0.373364 -0.023190 -0.247718  0.271185  0.144887   36.41      0  \n",
      "42527  0.090591  0.367281 -0.036724  0.028747  0.030023   95.00      0  \n",
      "42528  0.591783  0.334229  0.386801  2.163898  0.983104  340.11      1  \n",
      "42529 -0.246534 -0.314678 -0.566201  0.041220 -0.066911   74.16      0  \n",
      "42530 -1.554172  0.388261 -0.250784 -0.066093  0.066181    1.00      0  \n",
      "42531 -0.423153  0.679528 -0.247947  0.049096  0.025607    8.70      0  \n",
      "42532  0.572848  0.517186 -0.156011 -0.032627  0.019102  113.65      0  \n",
      "42533  0.514426  0.129079  0.977262 -0.039864  0.032597   84.95      0  \n",
      "42534 -0.804537  0.275597  0.382343  0.029658  0.005378    9.45      0  \n",
      "42535 -0.286496  0.109661 -0.218842  0.062395  0.038243  120.00      0  \n",
      "42536  0.051493  0.343844 -0.039345  0.023978  0.024234   86.00      0  \n",
      "42537 -0.985877 -0.143287 -0.519781  0.149383  0.197709    7.81      0  \n",
      "42538 -0.295692  0.673693  0.100964 -0.026671 -0.007202    0.00      0  \n",
      "42539  0.556860 -0.199520  0.663386 -1.182920 -0.413020    2.92      0  \n",
      "42540  0.595501  0.268779 -0.078048  0.018803  0.037851  129.00      0  \n",
      "42541  0.481731 -0.449028 -0.792093 -0.084035  0.004182  167.19      0  \n",
      "42542 -0.296688 -0.186652  0.706874 -0.326771 -0.076378  431.97      0  \n",
      "42543  0.241311  0.361473 -0.242317  0.102560  0.033915   66.45      0  \n",
      "42544  0.934507 -0.023292  0.063216 -0.023653  0.096553    8.95      0  \n",
      "42545  0.646985 -0.671912  1.107718 -0.005820 -0.078754   12.00      0  \n",
      "42546  0.423861 -0.067217  0.725393 -0.101423  0.044354  181.50      0  \n",
      "42547  0.435119  0.334190 -0.043958  0.027448  0.040267   98.00      0  \n",
      "42548 -0.096916  0.369143 -0.009744  0.021008  0.033205   98.00      0  \n",
      "\n",
      "[41 rows x 31 columns]\n"
     ]
    }
   ],
   "source": [
    "\n",
    "\n",
    "import random\n",
    "\n",
    "# Find the indices of all rows where the target is 1\n",
    "target_indices = df[df['Class'] == 1].index.tolist()\n",
    "\n",
    "# Pick a random target index\n",
    "random_index = random.choice(target_indices)\n",
    "\n",
    "# Find the indices of the 20 rows before and after the random target index\n",
    "rows_before = range(max(0, random_index - 20), random_index)\n",
    "rows_after = range(random_index + 1, min(random_index + 21, len(df)))\n",
    "\n",
    "# Select the rows from the data frame using the indices\n",
    "selected_rows = df.iloc[list(rows_before) + [random_index] + list(rows_after)]\n",
    "\n",
    "# Print the selected rows\n",
    "print(selected_rows)"
   ]
  },
  {
   "cell_type": "markdown",
   "id": "ee4067cf",
   "metadata": {
    "id": "ee4067cf"
   },
   "source": [
    "# Histogram for each variable in the data:"
   ]
  },
  {
   "cell_type": "code",
   "execution_count": 9,
   "id": "d11f798b",
   "metadata": {
    "colab": {
     "base_uri": "https://localhost:8080/",
     "height": 1000
    },
    "id": "d11f798b",
    "outputId": "e1938957-90c6-41c9-dbff-92938701cadf"
   },
   "outputs": [
    {
     "data": {
      "image/png": "[encoded data removed]",
      "text/plain": [
       "<Figure size 1440x1440 with 32 Axes>"
      ]
     },
     "metadata": {
      "needs_background": "light"
     },
     "output_type": "display_data"
    }
   ],
   "source": [
    "import matplotlib.pyplot as plt\n",
    "import seaborn as sns\n",
    "\n",
    "# Create a subplot with multiple plots\n",
    "fig, axs = plt.subplots(8, 4, figsize=(20, 20))\n",
    "axs = axs.ravel()\n",
    "\n",
    "# Plot histograms for all columns\n",
    "for i, column in enumerate(df.columns):\n",
    "    sns.histplot(df[column], ax=axs[i])\n",
    "    axs[i].set_title(column)\n",
    "\n",
    "plt.tight_layout()\n",
    "plt.show()"
   ]
  },
  {
   "cell_type": "code",
   "execution_count": 10,
   "id": "1113f241",
   "metadata": {
    "colab": {
     "base_uri": "https://localhost:8080/",
     "height": 265
    },
    "id": "1113f241",
    "outputId": "4176ad41-1649-4aa7-8c5b-38177fd91e2a"
   },
   "outputs": [
    {
     "data": {
      "image/png": "[encoded data removed]",
      "text/plain": [
       "<Figure size 432x288 with 1 Axes>"
      ]
     },
     "metadata": {
      "needs_background": "light"
     },
     "output_type": "display_data"
    }
   ],
   "source": [
    "import pandas as pd\n",
    "import matplotlib.pyplot as plt\n",
    "\n",
    "# Load the credit card fraud detection dataset\n",
    "data =df\n",
    "\n",
    "# Create a histogram of the \"Time\" input variable for fraudulent and non-fraudulent transactions\n",
    "fraudulent = data[data['Class'] == 1]\n",
    "non_fraudulent = data[data['Class'] == 0]\n",
    "plt.hist(fraudulent['V2'], bins=20, alpha=0.5, label='Fraudulent')\n",
    "plt.hist(non_fraudulent['V2'], bins=20, alpha=0.5, label='Non-fraudulent')\n",
    "plt.legend(loc='upper right')\n",
    "plt.show()"
   ]
  },
  {
   "cell_type": "markdown",
   "id": "a9285e3c",
   "metadata": {
    "id": "a9285e3c"
   },
   "source": [
    "# Correlation between variables and class:\n",
    "    conclution: seems like some variables are more correlated than others.\n",
    "    V17, V12, V14 seems to be quit miningfull to target, while v13.v15 and V22 are less meanigfull."
   ]
  },
  {
   "cell_type": "code",
   "execution_count": 11,
   "id": "eeda3cd2",
   "metadata": {
    "colab": {
     "base_uri": "https://localhost:8080/"
    },
    "id": "eeda3cd2",
    "outputId": "e0568f4f-1723-4a70-80d1-7711d1393b77"
   },
   "outputs": [
    {
     "name": "stdout",
     "output_type": "stream",
     "text": [
      "V1       -0.101347\n",
      "V2        0.091289\n",
      "V3       -0.192961\n",
      "V4        0.133447\n",
      "V5       -0.094974\n",
      "V6       -0.043643\n",
      "V7       -0.187257\n",
      "V8        0.019875\n",
      "V9       -0.097733\n",
      "V10      -0.216883\n",
      "V11       0.154876\n",
      "V12      -0.260593\n",
      "V13      -0.004570\n",
      "V14      -0.302544\n",
      "V15      -0.004223\n",
      "V16      -0.196539\n",
      "V17      -0.326481\n",
      "V18      -0.111485\n",
      "V19       0.034783\n",
      "V20       0.020090\n",
      "V21       0.040413\n",
      "V22       0.000805\n",
      "V23      -0.002685\n",
      "V24      -0.007221\n",
      "V25       0.003308\n",
      "V26       0.004455\n",
      "V27       0.017580\n",
      "V28       0.009536\n",
      "Amount    0.005632\n",
      "Class     1.000000\n",
      "Name: Class, dtype: float64\n"
     ]
    }
   ],
   "source": [
    "# Calculate Pearson correlation coefficient between each input variable and the target variable\n",
    "data = data.drop(columns = [\"Time\"])\n",
    "corr_matrix = data.corr()\n",
    "fraud_corrs = corr_matrix['Class']\n",
    "print(fraud_corrs)"
   ]
  },
  {
   "cell_type": "code",
   "execution_count": 12,
   "id": "qe83GMu0TRdE",
   "metadata": {
    "colab": {
     "base_uri": "https://localhost:8080/",
     "height": 542
    },
    "id": "qe83GMu0TRdE",
    "outputId": "09c888bb-bffe-4a6b-aa37-294789436c90"
   },
   "outputs": [
    {
     "data": {
      "image/png": "[encoded data removed]",
      "text/plain": [
       "<Figure size 864x576 with 1 Axes>"
      ]
     },
     "metadata": {
      "needs_background": "light"
     },
     "output_type": "display_data"
    }
   ],
   "source": [
    "# Create a bar chart of the correlation coefficients\n",
    "plt.figure(figsize=(12, 8))\n",
    "plt.bar(fraud_corrs.index, fraud_corrs.values)\n",
    "plt.xticks(rotation=90)\n",
    "plt.xlabel('Input variable')\n",
    "plt.ylabel('Correlation coefficient')\n",
    "plt.title('Pearson Correlation Coefficient between Input Variables and Target Variable')\n",
    "\n",
    "plt.show()"
   ]
  },
  {
   "cell_type": "markdown",
   "id": "c1693b27",
   "metadata": {},
   "source": [
    "Seems like some variables are more correlated than others. V17, V12, and V14 seem to be quite meaningful to target, while V13, V15, and V22 are less meaningful."
   ]
  },
  {
   "cell_type": "code",
   "execution_count": 13,
   "id": "83035f1d",
   "metadata": {},
   "outputs": [],
   "source": [
    "fraud=df[df.Class==1]"
   ]
  },
  {
   "cell_type": "code",
   "execution_count": 14,
   "id": "6ffcf39e",
   "metadata": {},
   "outputs": [],
   "source": [
    "non_fraud=df[df.Class==0]"
   ]
  },
  {
   "cell_type": "code",
   "execution_count": 15,
   "id": "149323ae",
   "metadata": {},
   "outputs": [
    {
     "data": {
      "text/plain": [
       "<AxesSubplot:xlabel='Time', ylabel='Count'>"
      ]
     },
     "execution_count": 15,
     "metadata": {},
     "output_type": "execute_result"
    },
    {
     "data": {
      "image/png": "[encoded data removed]",
      "text/plain": [
       "<Figure size 432x288 with 1 Axes>"
      ]
     },
     "metadata": {
      "needs_background": "light"
     },
     "output_type": "display_data"
    }
   ],
   "source": [
    "sns.histplot(data=fraud, x=\"Time\", kde=True)"
   ]
  },
  {
   "cell_type": "code",
   "execution_count": 16,
   "id": "eaabf049",
   "metadata": {},
   "outputs": [
    {
     "data": {
      "text/plain": [
       "<AxesSubplot:xlabel='Time', ylabel='Count'>"
      ]
     },
     "execution_count": 16,
     "metadata": {},
     "output_type": "execute_result"
    },
    {
     "data": {
      "image/png": "[encoded data removed]",
      "text/plain": [
       "<Figure size 432x288 with 1 Axes>"
      ]
     },
     "metadata": {
      "needs_background": "light"
     },
     "output_type": "display_data"
    }
   ],
   "source": [
    "sns.histplot(data=non_fraud, x=\"Time\", kde=True)"
   ]
  },
  {
   "cell_type": "code",
   "execution_count": 22,
   "id": "0ab49bcc",
   "metadata": {},
   "outputs": [
    {
     "data": {
      "text/plain": [
       "122.21132113821133"
      ]
     },
     "execution_count": 22,
     "metadata": {},
     "output_type": "execute_result"
    }
   ],
   "source": [
    "fraud.Amount.mean()"
   ]
  },
  {
   "cell_type": "code",
   "execution_count": 24,
   "id": "371c5a41",
   "metadata": {},
   "outputs": [
    {
     "data": {
      "text/plain": [
       "88.29102242225574"
      ]
     },
     "execution_count": 24,
     "metadata": {},
     "output_type": "execute_result"
    }
   ],
   "source": [
    "non_fraud.Amount.mean()"
   ]
  },
  {
   "cell_type": "code",
   "execution_count": 25,
   "id": "30421bf4",
   "metadata": {},
   "outputs": [
    {
     "data": {
      "text/plain": [
       "<AxesSubplot:xlabel='Class', ylabel='Amount'>"
      ]
     },
     "execution_count": 25,
     "metadata": {},
     "output_type": "execute_result"
    },
    {
     "data": {
      "image/png": "[encoded data removed]",
      "text/plain": [
       "<Figure size 432x288 with 1 Axes>"
      ]
     },
     "metadata": {
      "needs_background": "light"
     },
     "output_type": "display_data"
    }
   ],
   "source": [
    "sns.barplot(data=df, x=\"Class\", y=\"Amount\")"
   ]
  },
  {
   "cell_type": "markdown",
   "id": "1ad9118b",
   "metadata": {},
   "source": [
    "We can see that the time trend remains the same for both fraud and Non fraud transactions <br/>\n",
    "The amount does vary between fraud and non-fraud. Fraud amount average transaction is nearly 50% higher, and its confidence intervals is much higher indication a more fluctuating feature.\n"
   ]
  },
  {
   "cell_type": "code",
   "execution_count": 38,
   "id": "9bce7c12",
   "metadata": {},
   "outputs": [],
   "source": [
    "DF_for_plot=df[[\"Time\", \"V11\", \"V12\",\"V14\",\"V17\",\"Amount\"]]"
   ]
  },
  {
   "cell_type": "code",
   "execution_count": 41,
   "id": "527b18c4",
   "metadata": {},
   "outputs": [
    {
     "data": {
      "image/png": "[encoded data removed]",
      "text/plain": [
       "<Figure size 1440x720 with 6 Axes>"
      ]
     },
     "metadata": {
      "needs_background": "light"
     },
     "output_type": "display_data"
    }
   ],
   "source": [
    "# Create a subplot with multiple plots\n",
    "fig, axs = plt.subplots(2, 3, figsize=(20, 10))\n",
    "axs = axs.ravel()\n",
    "\n",
    "# Plot histograms for all columns\n",
    "for i, column in enumerate(DF_for_plot.columns):\n",
    "    sns.histplot(DF_for_plot[column], ax=axs[i])\n",
    "    axs[i].set_title(column)\n",
    "\n",
    "plt.tight_layout()\n",
    "plt.show()"
   ]
  },
  {
   "cell_type": "markdown",
   "id": "e12d11de",
   "metadata": {},
   "source": [
    "The distribution of the features that we identify as important due to high correlation with fraudulent activity is standard. <br/>\n",
    "We can identify a trend for both time and amount.\n"
   ]
  },
  {
   "cell_type": "code",
   "execution_count": 36,
   "id": "b413b91b",
   "metadata": {
    "id": "b413b91b"
   },
   "outputs": [],
   "source": [
    "#Feature Importance:\n",
    " #   We want to see feature importance using machine learning \"random forest\""
   ]
  },
  {
   "cell_type": "code",
   "execution_count": 46,
   "id": "b66abae0",
   "metadata": {
    "colab": {
     "base_uri": "https://localhost:8080/"
    },
    "id": "b66abae0",
    "outputId": "9ed10cd6-0af8-4592-ec1f-77170f15975d"
   },
   "outputs": [
    {
     "name": "stdout",
     "output_type": "stream",
     "text": [
      "Time 0.012467731476681601\n",
      "V1 0.013161163397944656\n",
      "V2 0.013837985145784739\n",
      "V3 0.020420721188369666\n",
      "V4 0.026598079356074108\n",
      "V5 0.011054373048270014\n",
      "V6 0.01279719819510434\n",
      "V7 0.026973659615927473\n",
      "V8 0.013479276157030462\n",
      "V9 0.029355106903314814\n",
      "V10 0.07354663442976928\n",
      "V11 0.05127364795099016\n",
      "V12 0.1326119996556785\n",
      "V13 0.011684138057427684\n",
      "V14 0.12943578321416463\n",
      "V15 0.011121527123804502\n",
      "V16 0.0776547643030783\n",
      "V17 0.16419046705512536\n",
      "V18 0.03261043984848221\n",
      "V19 0.012865043004301021\n",
      "V20 0.012940900949689011\n",
      "V21 0.018315930264522582\n",
      "V22 0.010347401504013809\n",
      "V23 0.008168362032044253\n",
      "V24 0.00975357019234747\n",
      "V25 0.008215657634007459\n",
      "V26 0.02046240219252417\n",
      "V27 0.0134059120274354\n",
      "V28 0.009252685495750087\n",
      "Amount 0.011997438580342407\n"
     ]
    }
   ],
   "source": [
    "import pandas as pd\n",
    "from sklearn.ensemble import RandomForestClassifier\n",
    "\n",
    "# Load the credit card fraud detection dataset\n",
    "data = pd.read_csv('/content/drive/MyDrive/creditcard.csv')\n",
    "\n",
    "# Separate input variables and target variable\n",
    "X = data.drop('Class', axis=1)\n",
    "y = data['Class']\n",
    "\n",
    "# Train a random forest classifier\n",
    "rfc = RandomForestClassifier(n_estimators=100, random_state=42)\n",
    "rfc.fit(X, y)\n",
    "\n",
    "# Print feature importances\n",
    "importances = rfc.feature_importances_\n",
    "for feature, importance in zip(X.columns, importances):\n",
    "    print(feature, importance)"
   ]
  },
  {
   "cell_type": "markdown",
   "id": "dea48185",
   "metadata": {},
   "source": [
    "### About the dataset"
   ]
  },
  {
   "cell_type": "markdown",
   "id": "74141fcd",
   "metadata": {},
   "source": [
    "The dataset contains transactions made with credit cards in September 2013 by European cardholders. <br/>\n",
    "This dataset presents transactions that occurred in two days, where we have 492 frauds out of 284,807 transactions. <br/>\n",
    "The dataset is highly unbalanced. The positive class (frauds) accounts for 0.172% of all transactions. <br/>\n",
    "It contains only numerical input variables resulting from a PCA transformation. <br/>\n"
   ]
  },
  {
   "cell_type": "markdown",
   "id": "b6f259fb",
   "metadata": {
    "id": "b6f259fb"
   },
   "source": [
    "# Defined the metrics to examine the model\n",
    "Due to the imbalance of the data and the importance of finding frauds (it's basically a pure loss), we will define metrics to examine the results. \n",
    "\n",
    "Selected Metrics: \n",
    "\n",
    "1) False Negative - Frauds that were classified as non-fraud (very significant).\n",
    "\n",
    "2) False Positive - not fraudulent transactions that were classified as fraud.\n",
    "\n",
    "3) True Negative - Not fraudulent transactions that were classified as non-fraud.\n",
    "\n",
    "4) True positive - Fraud that was classified as fraud (also very important).\n",
    "\n",
    "5) Precision - the ratio of true positives (TP) to the sum of true positives and false positives (FP). A high precision score indicates that the model has a low rate of false positives.\n",
    "\n",
    "6) Recall - the ratio of true positives (TP) to the sum of true positives and false negatives (FN). A high recall score indicates that the model has a low rate of false negatives."
   ]
  },
  {
   "cell_type": "code",
   "execution_count": 17,
   "id": "0a9fafa0",
   "metadata": {
    "id": "0a9fafa0"
   },
   "outputs": [],
   "source": [
    "from tensorflow import keras\n",
    "\n",
    "metrics = [\n",
    "    keras.metrics.FalseNegatives(name=\"fn\"),\n",
    "    keras.metrics.FalsePositives(name=\"fp\"),\n",
    "    keras.metrics.TrueNegatives(name=\"tn\"),\n",
    "    keras.metrics.TruePositives(name=\"tp\"),\n",
    "    keras.metrics.Precision(name=\"precision\"),\n",
    "    keras.metrics.Recall(name=\"recall\"),\n",
    "]"
   ]
  },
  {
   "cell_type": "code",
   "execution_count": 48,
   "id": "c5f62480",
   "metadata": {
    "colab": {
     "base_uri": "https://localhost:8080/"
    },
    "id": "c5f62480",
    "outputId": "3d92af12-7bb8-4a17-8de3-19d26bc465fe"
   },
   "outputs": [
    {
     "data": {
      "text/plain": [
       "array([0, 1])"
      ]
     },
     "execution_count": 48,
     "metadata": {},
     "output_type": "execute_result"
    }
   ],
   "source": [
    "np.unique(y)"
   ]
  },
  {
   "cell_type": "markdown",
   "id": "d6783a22",
   "metadata": {
    "id": "d6783a22"
   },
   "source": [
    "# Try to predict with a simple model "
   ]
  },
  {
   "cell_type": "markdown",
   "id": "2a99e510",
   "metadata": {},
   "source": [
    "Measurements <br/>\n",
    "Model: Reguler + Class weights <br/>\n",
    "Hidden Layers: 2 <br/>\n",
    "Activation: Relu <br/>\n",
    "Loss Function: binary_crossentropy <br/>\n",
    "Optimizer: adam <br/>\n",
    "Metrics: metrics <br/>\n"
   ]
  },
  {
   "cell_type": "code",
   "execution_count": 49,
   "id": "acb93578",
   "metadata": {
    "colab": {
     "base_uri": "https://localhost:8080/"
    },
    "id": "acb93578",
    "outputId": "81953576-7a5f-443d-db9b-358d597800c3"
   },
   "outputs": [
    {
     "name": "stdout",
     "output_type": "stream",
     "text": [
      "Epoch 1/10\n",
      "92/92 [==============================] - 2s 9ms/step - loss: 0.1262 - fn: 263.0000 - fp: 1780.0000 - tn: 180131.0000 - tp: 102.0000 - precision: 0.0542 - recall: 0.2795 - val_loss: 0.0849 - val_fn: 40.0000 - val_fp: 70.0000 - val_tn: 45447.0000 - val_tp: 12.0000 - val_precision: 0.1463 - val_recall: 0.2308\n",
      "Epoch 2/10\n",
      "92/92 [==============================] - 0s 4ms/step - loss: 0.0479 - fn: 146.0000 - fp: 73.0000 - tn: 181838.0000 - tp: 219.0000 - precision: 0.7500 - recall: 0.6000 - val_loss: 0.0445 - val_fn: 35.0000 - val_fp: 16.0000 - val_tn: 45501.0000 - val_tp: 17.0000 - val_precision: 0.5152 - val_recall: 0.3269\n",
      "Epoch 3/10\n",
      "92/92 [==============================] - 0s 4ms/step - loss: 0.0232 - fn: 125.0000 - fp: 57.0000 - tn: 181854.0000 - tp: 240.0000 - precision: 0.8081 - recall: 0.6575 - val_loss: 0.0252 - val_fn: 40.0000 - val_fp: 6.0000 - val_tn: 45511.0000 - val_tp: 12.0000 - val_precision: 0.6667 - val_recall: 0.2308\n",
      "Epoch 4/10\n",
      "92/92 [==============================] - 0s 4ms/step - loss: 0.0154 - fn: 125.0000 - fp: 53.0000 - tn: 181858.0000 - tp: 240.0000 - precision: 0.8191 - recall: 0.6575 - val_loss: 0.0178 - val_fn: 29.0000 - val_fp: 14.0000 - val_tn: 45503.0000 - val_tp: 23.0000 - val_precision: 0.6216 - val_recall: 0.4423\n",
      "Epoch 5/10\n",
      "92/92 [==============================] - 0s 4ms/step - loss: 0.0103 - fn: 110.0000 - fp: 50.0000 - tn: 181861.0000 - tp: 255.0000 - precision: 0.8361 - recall: 0.6986 - val_loss: 0.0119 - val_fn: 28.0000 - val_fp: 8.0000 - val_tn: 45509.0000 - val_tp: 24.0000 - val_precision: 0.7500 - val_recall: 0.4615\n",
      "Epoch 6/10\n",
      "92/92 [==============================] - 0s 4ms/step - loss: 0.0079 - fn: 111.0000 - fp: 50.0000 - tn: 181861.0000 - tp: 254.0000 - precision: 0.8355 - recall: 0.6959 - val_loss: 0.0098 - val_fn: 26.0000 - val_fp: 12.0000 - val_tn: 45505.0000 - val_tp: 26.0000 - val_precision: 0.6842 - val_recall: 0.5000\n",
      "Epoch 7/10\n",
      "92/92 [==============================] - 0s 4ms/step - loss: 0.0069 - fn: 109.0000 - fp: 46.0000 - tn: 181865.0000 - tp: 256.0000 - precision: 0.8477 - recall: 0.7014 - val_loss: 0.0086 - val_fn: 21.0000 - val_fp: 9.0000 - val_tn: 45508.0000 - val_tp: 31.0000 - val_precision: 0.7750 - val_recall: 0.5962\n",
      "Epoch 8/10\n",
      "92/92 [==============================] - 0s 4ms/step - loss: 0.0061 - fn: 111.0000 - fp: 48.0000 - tn: 181863.0000 - tp: 254.0000 - precision: 0.8411 - recall: 0.6959 - val_loss: 0.0068 - val_fn: 29.0000 - val_fp: 4.0000 - val_tn: 45513.0000 - val_tp: 23.0000 - val_precision: 0.8519 - val_recall: 0.4423\n",
      "Epoch 9/10\n",
      "92/92 [==============================] - 0s 4ms/step - loss: 0.0057 - fn: 112.0000 - fp: 41.0000 - tn: 181870.0000 - tp: 253.0000 - precision: 0.8605 - recall: 0.6932 - val_loss: 0.0065 - val_fn: 21.0000 - val_fp: 7.0000 - val_tn: 45510.0000 - val_tp: 31.0000 - val_precision: 0.8158 - val_recall: 0.5962\n",
      "Epoch 10/10\n",
      "92/92 [==============================] - 0s 4ms/step - loss: 0.0071 - fn: 114.0000 - fp: 44.0000 - tn: 181867.0000 - tp: 251.0000 - precision: 0.8508 - recall: 0.6877 - val_loss: 0.0058 - val_fn: 21.0000 - val_fp: 4.0000 - val_tn: 45513.0000 - val_tp: 31.0000 - val_precision: 0.8857 - val_recall: 0.5962\n"
     ]
    }
   ],
   "source": [
    "from tensorflow.keras import layers, models\n",
    "from sklearn.utils import class_weight\n",
    "\n",
    "\n",
    "\n",
    "#split train and test \n",
    "train_size = int(len(df) * 0.8)\n",
    "test_size = (len(df) - (train_size))\n",
    "\n",
    "\n",
    "\n",
    "train_data = df.iloc[:train_size].copy()\n",
    "test_data = df.iloc[-test_size:].copy()\n",
    "\n",
    "\n",
    "\n",
    "#normalize the data:\n",
    "# cols_to_norm = ['V1', 'V2', 'V3', 'V4', 'V5', 'V6', 'V7', 'V8', 'V9', 'V10',\n",
    "#        'V11', 'V12', 'V13', 'V14', 'V15', 'V16', 'V17', 'V18', 'V19', 'V20',\n",
    "#        'V21', 'V22', 'V23', 'V24', 'V25', 'V26', 'V27', 'V28', 'Amount']\n",
    "# scalerX = MinMaxScaler()\n",
    "# scalerX.fit_transform(train_data[cols_to_norm])\n",
    "\n",
    "\n",
    "# train_data[cols_to_norm] = scalerX.transform(train_data[cols_to_norm] )\n",
    "# test_data[cols_to_norm] = scalerX.transform(test_data[cols_to_norm] )\n",
    "\n",
    "\n",
    "trainY = np.array(train_data[\"Class\"])\n",
    "testY = np.array(test_data[\"Class\"])\n",
    "trainX =  np.array(train_data.drop(columns=[\"Class\",\"Time\"]))\n",
    "testX =  np.array(test_data.drop(columns=[\"Class\",\"Time\"]))\n",
    "\n",
    "\n",
    "\n",
    "\n",
    "\n",
    "# Define a neural network model\n",
    "model = models.Sequential([\n",
    "    layers.Dense(32, activation='relu', input_shape=(trainX.shape[1],)),\n",
    "    layers.Dense(1, activation='sigmoid')\n",
    "    \n",
    "])\n",
    "\n",
    "\n",
    "# Compile the model with binary cross-entropy loss\n",
    "model.compile(loss='binary_crossentropy', optimizer='adam', metrics=metrics)\n",
    "\n",
    "# Train the model with class weights using the fit() method\n",
    "history = model.fit(trainX, trainY, epochs=10, batch_size=2000, validation_split=0.2)"
   ]
  },
  {
   "cell_type": "markdown",
   "id": "36cd4924",
   "metadata": {
    "id": "36cd4924"
   },
   "source": [
    "# Evaluate the results:"
   ]
  },
  {
   "cell_type": "markdown",
   "id": "mDMNC83aYp2a",
   "metadata": {
    "id": "mDMNC83aYp2a"
   },
   "source": [
    "Based on the training log, we can see that the model achieved a loss of 0.0054 on the training set and a loss of 0.0080 on the validation set after 10 epochs of training.\n",
    "\n",
    "The model also achieved a precision of 0.8741 and a recall of 0.6973 on the validation set. This means that out of all the transactions predicted as fraudulent by the model, 87.41% of them were fraudulent, and the model correctly identified 69.73% of all fraudulent transactions.\n",
    "\n",
    "Overall, the model seems to have performed well on the task of detecting fraudulent credit card transactions, with high precision and recall. However, further evaluation and testing would be necessary to determine how well the model generalizes to new and unseen data."
   ]
  },
  {
   "cell_type": "code",
   "execution_count": null,
   "id": "8391acf3",
   "metadata": {
    "id": "8391acf3",
    "outputId": "9f4c4dff-61ac-4696-8807-ca476e9cc48e"
   },
   "outputs": [
    {
     "name": "stdout",
     "output_type": "stream",
     "text": [
      "1781/1781 [==============================] - 5s 3ms/step\n",
      "Precision:  0.9166666666666666\n",
      "Recall:  0.5866666666666667\n",
      "F1-Score:  0.7154471544715447\n"
     ]
    }
   ],
   "source": [
    "import matplotlib.pyplot as plt\n",
    "from sklearn.metrics import confusion_matrix, precision_recall_curve, roc_auc_score, roc_curve,f1_score,precision_score,recall_score\n",
    "import seaborn as sns\n",
    "\n",
    "\n",
    "# Use the model to make predictions on the validation data\n",
    "val_probabilities = model.predict(testX)\n",
    "val_predictions =np.round(val_probabilities)\n",
    "\n",
    "# Calculate the precision, recall, and f1-score\n",
    "precision = precision_score(testY, val_predictions)\n",
    "recall = recall_score(testY, val_predictions)\n",
    "f1 = f1_score(testY, val_predictions)\n",
    "\n",
    "print(\"Precision: \", precision)\n",
    "print(\"Recall: \", recall)\n",
    "print(\"F1-Score: \", f1)"
   ]
  },
  {
   "cell_type": "markdown",
   "id": "bdcd757c",
   "metadata": {},
   "source": [
    "High precision but low recall. <br/>\n",
    "Since our business question is highly sensitive to low recall, we must improve that parameter firstly "
   ]
  },
  {
   "cell_type": "markdown",
   "id": "af924bf4",
   "metadata": {
    "id": "af924bf4"
   },
   "source": [
    "# Plot model loss"
   ]
  },
  {
   "cell_type": "code",
   "execution_count": 53,
   "id": "S3dX3pzmafaq",
   "metadata": {
    "colab": {
     "base_uri": "https://localhost:8080/",
     "height": 295
    },
    "id": "S3dX3pzmafaq",
    "outputId": "8ca67ba3-b774-4ded-9365-850e2a542004"
   },
   "outputs": [
    {
     "data": {
      "image/png": "[encoded data removed]",
      "text/plain": [
       "<Figure size 432x288 with 1 Axes>"
      ]
     },
     "metadata": {
      "needs_background": "light"
     },
     "output_type": "display_data"
    }
   ],
   "source": [
    "# Plot training & validation loss values\n",
    "plt.plot(history.history['loss'])\n",
    "plt.plot(history.history['val_loss'])\n",
    "plt.title('Model loss')\n",
    "plt.ylabel('Loss')\n",
    "plt.xlabel('Epoch')\n",
    "plt.legend(['Train', 'Validation'], loc='upper left')\n",
    "plt.show()"
   ]
  },
  {
   "cell_type": "code",
   "execution_count": null,
   "id": "7bce7f9e",
   "metadata": {
    "id": "7bce7f9e",
    "outputId": "8cbff2fc-aaa2-4420-943e-60be4b70b3b6"
   },
   "outputs": [
    {
     "data": {
      "image/png": "[encoded data removed]",
      "text/plain": [
       "<Figure size 432x288 with 1 Axes>"
      ]
     },
     "metadata": {
      "needs_background": "light"
     },
     "output_type": "display_data"
    }
   ],
   "source": [
    "plt.plot(history.history[\"loss\"])\n",
    "plt.plot(history.history[\"val_loss\"])\n",
    "plt.title(\"Model Loss\")\n",
    "plt.ylabel(\"Loss\")\n",
    "plt.xlabel(\"Epoch\")\n",
    "plt.legend([\"Train\", \"Validation\"], loc=\"upper right\")\n",
    "plt.show()"
   ]
  },
  {
   "cell_type": "markdown",
   "id": "1edcfe27",
   "metadata": {
    "id": "1edcfe27"
   },
   "source": [
    "# Confusion matrix"
   ]
  },
  {
   "cell_type": "code",
   "execution_count": null,
   "id": "9a0dbb0d",
   "metadata": {
    "id": "9a0dbb0d",
    "outputId": "425f505c-5615-420a-d81b-7daf2e54c54e"
   },
   "outputs": [
    {
     "data": {
      "image/png": "[encoded data removed]",
      "text/plain": [
       "<Figure size 576x576 with 2 Axes>"
      ]
     },
     "metadata": {
      "needs_background": "light"
     },
     "output_type": "display_data"
    }
   ],
   "source": [
    "# Plot the confusion matrix\n",
    "cm = confusion_matrix(testY, val_predictions)\n",
    "plt.figure(figsize=(8, 8))\n",
    "sns.heatmap(cm, annot=True, fmt=\"d\")\n",
    "plt.title(\"Confusion matrix\")\n",
    "plt.ylabel(\"True label\")\n",
    "plt.xlabel(\"Predicted label\")\n",
    "plt.show()"
   ]
  },
  {
   "cell_type": "code",
   "execution_count": null,
   "id": "4bc906a1",
   "metadata": {
    "id": "4bc906a1"
   },
   "outputs": [],
   "source": []
  },
  {
   "cell_type": "markdown",
   "id": "7df8e7d4",
   "metadata": {
    "id": "7df8e7d4"
   },
   "source": [
    "# Use wieght to overcome the imbalanced data + first prediction\n",
    "To address the challenge of imbalanced data, weight can be used to improve the predictive performance of a model. By assigning different weights to different classes, a model can be trained to give more importance to the underrepresented class, leading to better predictions on the minority class. This approach has been shown to be effective in various applications where imbalanced data is a common issue.\n",
    "\n",
    "\n",
    "> Indented block\n",
    "\n"
   ]
  },
  {
   "cell_type": "code",
   "execution_count": null,
   "id": "224a1497",
   "metadata": {
    "id": "224a1497",
    "outputId": "51db7d2c-cb36-4b67-8bbc-4ab3f2d1b2ac"
   },
   "outputs": [
    {
     "name": "stdout",
     "output_type": "stream",
     "text": [
      "Epoch 1/40\n",
      "365/365 [==============================] - 3s 5ms/step - loss: 1.4759 - fn: 44.0000 - fp: 53451.0000 - tn: 173977.0000 - tp: 373.0000 - precision: 0.0069 - recall: 0.8945 - val_loss: 0.2263 - val_fn: 15.0000 - val_fp: 3003.0000 - val_tn: 42514.0000 - val_tp: 37.0000 - val_precision: 0.0122 - val_recall: 0.7115\n",
      "Epoch 2/40\n",
      "365/365 [==============================] - 2s 4ms/step - loss: 0.4487 - fn: 37.0000 - fp: 16647.0000 - tn: 165264.0000 - tp: 328.0000 - precision: 0.0193 - recall: 0.8986 - val_loss: 1.3317 - val_fn: 2.0000 - val_fp: 14462.0000 - val_tn: 31055.0000 - val_tp: 50.0000 - val_precision: 0.0034 - val_recall: 0.9615\n",
      "Epoch 3/40\n",
      "365/365 [==============================] - 1s 4ms/step - loss: 0.3213 - fn: 36.0000 - fp: 12433.0000 - tn: 169478.0000 - tp: 329.0000 - precision: 0.0258 - recall: 0.9014 - val_loss: 0.5925 - val_fn: 4.0000 - val_fp: 7722.0000 - val_tn: 37795.0000 - val_tp: 48.0000 - val_precision: 0.0062 - val_recall: 0.9231\n",
      "Epoch 4/40\n",
      "365/365 [==============================] - 2s 4ms/step - loss: 0.2083 - fn: 28.0000 - fp: 6772.0000 - tn: 175139.0000 - tp: 337.0000 - precision: 0.0474 - recall: 0.9233 - val_loss: 0.1462 - val_fn: 9.0000 - val_fp: 2034.0000 - val_tn: 43483.0000 - val_tp: 43.0000 - val_precision: 0.0207 - val_recall: 0.8269\n",
      "Epoch 5/40\n",
      "365/365 [==============================] - 1s 4ms/step - loss: 0.4043 - fn: 29.0000 - fp: 12840.0000 - tn: 169071.0000 - tp: 336.0000 - precision: 0.0255 - recall: 0.9205 - val_loss: 0.1423 - val_fn: 8.0000 - val_fp: 1988.0000 - val_tn: 43529.0000 - val_tp: 44.0000 - val_precision: 0.0217 - val_recall: 0.8462\n",
      "Epoch 6/40\n",
      "365/365 [==============================] - 1s 4ms/step - loss: 0.3384 - fn: 27.0000 - fp: 11210.0000 - tn: 170701.0000 - tp: 338.0000 - precision: 0.0293 - recall: 0.9260 - val_loss: 0.1041 - val_fn: 10.0000 - val_fp: 1342.0000 - val_tn: 44175.0000 - val_tp: 42.0000 - val_precision: 0.0303 - val_recall: 0.8077\n",
      "Epoch 7/40\n",
      "365/365 [==============================] - 2s 4ms/step - loss: 0.3222 - fn: 25.0000 - fp: 9527.0000 - tn: 172384.0000 - tp: 340.0000 - precision: 0.0345 - recall: 0.9315 - val_loss: 0.0764 - val_fn: 10.0000 - val_fp: 932.0000 - val_tn: 44585.0000 - val_tp: 42.0000 - val_precision: 0.0431 - val_recall: 0.8077\n",
      "Epoch 8/40\n",
      "365/365 [==============================] - 1s 4ms/step - loss: 0.3426 - fn: 27.0000 - fp: 10734.0000 - tn: 171177.0000 - tp: 338.0000 - precision: 0.0305 - recall: 0.9260 - val_loss: 0.0911 - val_fn: 10.0000 - val_fp: 1092.0000 - val_tn: 44425.0000 - val_tp: 42.0000 - val_precision: 0.0370 - val_recall: 0.8077\n",
      "Epoch 9/40\n",
      "365/365 [==============================] - 2s 4ms/step - loss: 0.2908 - fn: 27.0000 - fp: 8499.0000 - tn: 173412.0000 - tp: 338.0000 - precision: 0.0382 - recall: 0.9260 - val_loss: 0.1426 - val_fn: 5.0000 - val_fp: 1948.0000 - val_tn: 43569.0000 - val_tp: 47.0000 - val_precision: 0.0236 - val_recall: 0.9038\n",
      "Epoch 10/40\n",
      "365/365 [==============================] - 2s 4ms/step - loss: 0.3289 - fn: 23.0000 - fp: 10241.0000 - tn: 171670.0000 - tp: 342.0000 - precision: 0.0323 - recall: 0.9370 - val_loss: 0.1043 - val_fn: 7.0000 - val_fp: 1285.0000 - val_tn: 44232.0000 - val_tp: 45.0000 - val_precision: 0.0338 - val_recall: 0.8654\n",
      "Epoch 11/40\n",
      "365/365 [==============================] - 1s 4ms/step - loss: 0.2884 - fn: 24.0000 - fp: 8888.0000 - tn: 173023.0000 - tp: 341.0000 - precision: 0.0369 - recall: 0.9342 - val_loss: 0.1008 - val_fn: 7.0000 - val_fp: 1186.0000 - val_tn: 44331.0000 - val_tp: 45.0000 - val_precision: 0.0366 - val_recall: 0.8654\n",
      "Epoch 12/40\n",
      "365/365 [==============================] - 1s 4ms/step - loss: 0.1358 - fn: 21.0000 - fp: 4154.0000 - tn: 177757.0000 - tp: 344.0000 - precision: 0.0765 - recall: 0.9425 - val_loss: 0.1049 - val_fn: 5.0000 - val_fp: 1267.0000 - val_tn: 44250.0000 - val_tp: 47.0000 - val_precision: 0.0358 - val_recall: 0.9038\n",
      "Epoch 13/40\n",
      "365/365 [==============================] - 1s 4ms/step - loss: 0.1759 - fn: 25.0000 - fp: 6727.0000 - tn: 175184.0000 - tp: 340.0000 - precision: 0.0481 - recall: 0.9315 - val_loss: 0.0835 - val_fn: 7.0000 - val_fp: 990.0000 - val_tn: 44527.0000 - val_tp: 45.0000 - val_precision: 0.0435 - val_recall: 0.8654\n",
      "Epoch 14/40\n",
      "365/365 [==============================] - 1s 4ms/step - loss: 0.2936 - fn: 20.0000 - fp: 8634.0000 - tn: 173277.0000 - tp: 345.0000 - precision: 0.0384 - recall: 0.9452 - val_loss: 0.0747 - val_fn: 8.0000 - val_fp: 862.0000 - val_tn: 44655.0000 - val_tp: 44.0000 - val_precision: 0.0486 - val_recall: 0.8462\n",
      "Epoch 15/40\n",
      "365/365 [==============================] - 1s 3ms/step - loss: 0.3084 - fn: 25.0000 - fp: 8528.0000 - tn: 173383.0000 - tp: 340.0000 - precision: 0.0383 - recall: 0.9315 - val_loss: 0.2495 - val_fn: 5.0000 - val_fp: 3178.0000 - val_tn: 42339.0000 - val_tp: 47.0000 - val_precision: 0.0146 - val_recall: 0.9038\n",
      "Epoch 16/40\n",
      "365/365 [==============================] - 2s 4ms/step - loss: 0.3006 - fn: 26.0000 - fp: 8327.0000 - tn: 173584.0000 - tp: 339.0000 - precision: 0.0391 - recall: 0.9288 - val_loss: 0.2263 - val_fn: 5.0000 - val_fp: 2964.0000 - val_tn: 42553.0000 - val_tp: 47.0000 - val_precision: 0.0156 - val_recall: 0.9038\n",
      "Epoch 17/40\n",
      "365/365 [==============================] - 1s 4ms/step - loss: 0.2900 - fn: 23.0000 - fp: 8182.0000 - tn: 173729.0000 - tp: 342.0000 - precision: 0.0401 - recall: 0.9370 - val_loss: 0.0828 - val_fn: 6.0000 - val_fp: 993.0000 - val_tn: 44524.0000 - val_tp: 46.0000 - val_precision: 0.0443 - val_recall: 0.8846\n",
      "Epoch 18/40\n",
      "365/365 [==============================] - 1s 4ms/step - loss: 0.2862 - fn: 21.0000 - fp: 8686.0000 - tn: 173225.0000 - tp: 344.0000 - precision: 0.0381 - recall: 0.9425 - val_loss: 0.0645 - val_fn: 8.0000 - val_fp: 746.0000 - val_tn: 44771.0000 - val_tp: 44.0000 - val_precision: 0.0557 - val_recall: 0.8462\n",
      "Epoch 19/40\n",
      "365/365 [==============================] - 1s 4ms/step - loss: 0.3333 - fn: 24.0000 - fp: 9077.0000 - tn: 172834.0000 - tp: 341.0000 - precision: 0.0362 - recall: 0.9342 - val_loss: 0.7331 - val_fn: 5.0000 - val_fp: 5707.0000 - val_tn: 39810.0000 - val_tp: 47.0000 - val_precision: 0.0082 - val_recall: 0.9038\n",
      "Epoch 20/40\n",
      "365/365 [==============================] - 1s 4ms/step - loss: 0.2781 - fn: 21.0000 - fp: 7580.0000 - tn: 174331.0000 - tp: 344.0000 - precision: 0.0434 - recall: 0.9425 - val_loss: 0.0763 - val_fn: 7.0000 - val_fp: 888.0000 - val_tn: 44629.0000 - val_tp: 45.0000 - val_precision: 0.0482 - val_recall: 0.8654\n",
      "Epoch 21/40\n",
      "365/365 [==============================] - 1s 4ms/step - loss: 0.2380 - fn: 21.0000 - fp: 7806.0000 - tn: 174105.0000 - tp: 344.0000 - precision: 0.0422 - recall: 0.9425 - val_loss: 0.0642 - val_fn: 8.0000 - val_fp: 713.0000 - val_tn: 44804.0000 - val_tp: 44.0000 - val_precision: 0.0581 - val_recall: 0.8462\n",
      "Epoch 22/40\n",
      "365/365 [==============================] - 1s 3ms/step - loss: 0.1387 - fn: 20.0000 - fp: 5350.0000 - tn: 176561.0000 - tp: 345.0000 - precision: 0.0606 - recall: 0.9452 - val_loss: 0.1217 - val_fn: 5.0000 - val_fp: 1651.0000 - val_tn: 43866.0000 - val_tp: 47.0000 - val_precision: 0.0277 - val_recall: 0.9038\n",
      "Epoch 23/40\n",
      "365/365 [==============================] - 1s 4ms/step - loss: 0.2681 - fn: 24.0000 - fp: 8701.0000 - tn: 173210.0000 - tp: 341.0000 - precision: 0.0377 - recall: 0.9342 - val_loss: 0.0801 - val_fn: 7.0000 - val_fp: 987.0000 - val_tn: 44530.0000 - val_tp: 45.0000 - val_precision: 0.0436 - val_recall: 0.8654\n",
      "Epoch 24/40\n",
      "365/365 [==============================] - 1s 4ms/step - loss: 0.1430 - fn: 16.0000 - fp: 5523.0000 - tn: 176388.0000 - tp: 349.0000 - precision: 0.0594 - recall: 0.9562 - val_loss: 0.0611 - val_fn: 7.0000 - val_fp: 708.0000 - val_tn: 44809.0000 - val_tp: 45.0000 - val_precision: 0.0598 - val_recall: 0.8654\n",
      "Epoch 25/40\n",
      "365/365 [==============================] - 1s 4ms/step - loss: 0.2532 - fn: 21.0000 - fp: 7538.0000 - tn: 174373.0000 - tp: 344.0000 - precision: 0.0436 - recall: 0.9425 - val_loss: 0.0542 - val_fn: 9.0000 - val_fp: 607.0000 - val_tn: 44910.0000 - val_tp: 43.0000 - val_precision: 0.0662 - val_recall: 0.8269\n",
      "Epoch 26/40\n",
      "365/365 [==============================] - 1s 4ms/step - loss: 0.1469 - fn: 19.0000 - fp: 4452.0000 - tn: 177459.0000 - tp: 346.0000 - precision: 0.0721 - recall: 0.9479 - val_loss: 0.4249 - val_fn: 5.0000 - val_fp: 4238.0000 - val_tn: 41279.0000 - val_tp: 47.0000 - val_precision: 0.0110 - val_recall: 0.9038\n",
      "Epoch 27/40\n",
      "365/365 [==============================] - 1s 4ms/step - loss: 0.1781 - fn: 18.0000 - fp: 5840.0000 - tn: 176071.0000 - tp: 347.0000 - precision: 0.0561 - recall: 0.9507 - val_loss: 0.1487 - val_fn: 5.0000 - val_fp: 1916.0000 - val_tn: 43601.0000 - val_tp: 47.0000 - val_precision: 0.0239 - val_recall: 0.9038\n",
      "Epoch 28/40\n",
      "365/365 [==============================] - 1s 4ms/step - loss: 0.2939 - fn: 17.0000 - fp: 8757.0000 - tn: 173154.0000 - tp: 348.0000 - precision: 0.0382 - recall: 0.9534 - val_loss: 2.6811 - val_fn: 4.0000 - val_fp: 11322.0000 - val_tn: 34195.0000 - val_tp: 48.0000 - val_precision: 0.0042 - val_recall: 0.9231\n",
      "Epoch 29/40\n",
      "365/365 [==============================] - 1s 4ms/step - loss: 0.1505 - fn: 19.0000 - fp: 4848.0000 - tn: 177063.0000 - tp: 346.0000 - precision: 0.0666 - recall: 0.9479 - val_loss: 0.0581 - val_fn: 10.0000 - val_fp: 611.0000 - val_tn: 44906.0000 - val_tp: 42.0000 - val_precision: 0.0643 - val_recall: 0.8077\n",
      "Epoch 30/40\n",
      "365/365 [==============================] - 1s 4ms/step - loss: 0.2490 - fn: 16.0000 - fp: 6877.0000 - tn: 175034.0000 - tp: 349.0000 - precision: 0.0483 - recall: 0.9562 - val_loss: 0.0709 - val_fn: 7.0000 - val_fp: 829.0000 - val_tn: 44688.0000 - val_tp: 45.0000 - val_precision: 0.0515 - val_recall: 0.8654\n",
      "Epoch 31/40\n",
      "365/365 [==============================] - 1s 3ms/step - loss: 0.3036 - fn: 20.0000 - fp: 8282.0000 - tn: 173629.0000 - tp: 345.0000 - precision: 0.0400 - recall: 0.9452 - val_loss: 0.5011 - val_fn: 6.0000 - val_fp: 4420.0000 - val_tn: 41097.0000 - val_tp: 46.0000 - val_precision: 0.0103 - val_recall: 0.8846\n",
      "Epoch 32/40\n",
      "365/365 [==============================] - 1s 4ms/step - loss: 0.1376 - fn: 16.0000 - fp: 4930.0000 - tn: 176981.0000 - tp: 349.0000 - precision: 0.0661 - recall: 0.9562 - val_loss: 0.0520 - val_fn: 9.0000 - val_fp: 545.0000 - val_tn: 44972.0000 - val_tp: 43.0000 - val_precision: 0.0731 - val_recall: 0.8269\n",
      "Epoch 33/40\n",
      "365/365 [==============================] - 1s 4ms/step - loss: 0.1113 - fn: 15.0000 - fp: 3597.0000 - tn: 178314.0000 - tp: 350.0000 - precision: 0.0887 - recall: 0.9589 - val_loss: 0.0837 - val_fn: 7.0000 - val_fp: 1014.0000 - val_tn: 44503.0000 - val_tp: 45.0000 - val_precision: 0.0425 - val_recall: 0.8654\n",
      "Epoch 34/40\n",
      "365/365 [==============================] - 1s 3ms/step - loss: 0.3147 - fn: 20.0000 - fp: 8133.0000 - tn: 173778.0000 - tp: 345.0000 - precision: 0.0407 - recall: 0.9452 - val_loss: 0.0843 - val_fn: 7.0000 - val_fp: 1042.0000 - val_tn: 44475.0000 - val_tp: 45.0000 - val_precision: 0.0414 - val_recall: 0.8654\n",
      "Epoch 35/40\n",
      "365/365 [==============================] - 1s 4ms/step - loss: 0.2999 - fn: 12.0000 - fp: 8065.0000 - tn: 173846.0000 - tp: 353.0000 - precision: 0.0419 - recall: 0.9671 - val_loss: 0.0834 - val_fn: 6.0000 - val_fp: 1100.0000 - val_tn: 44417.0000 - val_tp: 46.0000 - val_precision: 0.0401 - val_recall: 0.8846\n",
      "Epoch 36/40\n",
      "365/365 [==============================] - 1s 3ms/step - loss: 0.1267 - fn: 17.0000 - fp: 4815.0000 - tn: 177096.0000 - tp: 348.0000 - precision: 0.0674 - recall: 0.9534 - val_loss: 0.0550 - val_fn: 9.0000 - val_fp: 647.0000 - val_tn: 44870.0000 - val_tp: 43.0000 - val_precision: 0.0623 - val_recall: 0.8269\n",
      "Epoch 37/40\n",
      "365/365 [==============================] - 1s 4ms/step - loss: 0.1436 - fn: 14.0000 - fp: 5057.0000 - tn: 176854.0000 - tp: 351.0000 - precision: 0.0649 - recall: 0.9616 - val_loss: 0.2236 - val_fn: 6.0000 - val_fp: 3106.0000 - val_tn: 42411.0000 - val_tp: 46.0000 - val_precision: 0.0146 - val_recall: 0.8846\n",
      "Epoch 38/40\n",
      "365/365 [==============================] - 1s 4ms/step - loss: 0.3121 - fn: 13.0000 - fp: 8841.0000 - tn: 173070.0000 - tp: 352.0000 - precision: 0.0383 - recall: 0.9644 - val_loss: 0.1397 - val_fn: 6.0000 - val_fp: 1985.0000 - val_tn: 43532.0000 - val_tp: 46.0000 - val_precision: 0.0226 - val_recall: 0.8846\n",
      "Epoch 39/40\n",
      "365/365 [==============================] - 1s 4ms/step - loss: 0.1751 - fn: 15.0000 - fp: 5250.0000 - tn: 176661.0000 - tp: 350.0000 - precision: 0.0625 - recall: 0.9589 - val_loss: 3.7648 - val_fn: 4.0000 - val_fp: 12387.0000 - val_tn: 33130.0000 - val_tp: 48.0000 - val_precision: 0.0039 - val_recall: 0.9231\n",
      "Epoch 40/40\n",
      "365/365 [==============================] - 1s 4ms/step - loss: 0.1935 - fn: 13.0000 - fp: 5883.0000 - tn: 176028.0000 - tp: 352.0000 - precision: 0.0565 - recall: 0.9644 - val_loss: 0.0601 - val_fn: 7.0000 - val_fp: 736.0000 - val_tn: 44781.0000 - val_tp: 45.0000 - val_precision: 0.0576 - val_recall: 0.8654\n"
     ]
    }
   ],
   "source": [
    "from tensorflow.keras import layers, models\n",
    "from sklearn.utils import class_weight\n",
    "\n",
    "\n",
    "\n",
    "#split train and test \n",
    "train_size = int(len(df) * 0.8)\n",
    "test_size = (len(df) - (train_size))\n",
    "\n",
    "\n",
    "\n",
    "train_data = df.iloc[:train_size].copy()\n",
    "test_data = df.iloc[-test_size:].copy()\n",
    "\n",
    "\n",
    "\n",
    "# #normalize the data:\n",
    "# cols_to_norm = ['V1', 'V2', 'V3', 'V4', 'V5', 'V6', 'V7', 'V8', 'V9', 'V10',\n",
    "#        'V11', 'V12', 'V13', 'V14', 'V15', 'V16', 'V17', 'V18', 'V19', 'V20',\n",
    "#        'V21', 'V22', 'V23', 'V24', 'V25', 'V26', 'V27', 'V28', 'Amount']\n",
    "# scalerX = MinMaxScaler()\n",
    "# scalerX.fit_transform(train_data[cols_to_norm])\n",
    "\n",
    "\n",
    "# train_data[cols_to_norm] = scalerX.transform(train_data[cols_to_norm] )\n",
    "# test_data[cols_to_norm] = scalerX.transform(test_data[cols_to_norm] )\n",
    "\n",
    "\n",
    "trainY = np.array(train_data[\"Class\"])\n",
    "testY = np.array(test_data[\"Class\"])\n",
    "trainX =  np.array(train_data.drop(columns=[\"Class\",\"Time\"]))\n",
    "testX =  np.array(test_data.drop(columns=[\"Class\",\"Time\"]))\n",
    "\n",
    "\n",
    "# Calculate class weights to adjust for imbalanced dataset\n",
    "class_weights = dict(zip(np.unique(y), class_weight.compute_class_weight('balanced', np.unique(trainY), trainY)))\n",
    "\n",
    "\n",
    "# class_weights = {0: 1, 1: 200}\n",
    "\n",
    "\n",
    "\n",
    "\n",
    "# Define a neural network model\n",
    "model = models.Sequential([\n",
    "    layers.Dense(32, activation='relu', input_shape=(trainX.shape[1],)),\n",
    "    layers.Dense(1, activation='sigmoid')\n",
    "    \n",
    "])\n",
    "\n",
    "\n",
    "# Compile the model with binary cross-entropy loss\n",
    "model.compile(loss='binary_crossentropy', optimizer='adam', metrics=metrics)\n",
    "\n",
    "# Train the model with class weights using the fit() method\n",
    "history = model.fit(trainX, trainY, epochs=40, batch_size=500, validation_split=0.2, class_weight=class_weights)"
   ]
  },
  {
   "cell_type": "markdown",
   "id": "69c3d728",
   "metadata": {
    "id": "69c3d728"
   },
   "source": [
    "# Evaluate the results:"
   ]
  },
  {
   "cell_type": "code",
   "execution_count": null,
   "id": "bf558a54",
   "metadata": {
    "id": "bf558a54",
    "outputId": "0310f884-34be-4968-f482-4baa343ff97e"
   },
   "outputs": [
    {
     "name": "stdout",
     "output_type": "stream",
     "text": [
      "1781/1781 [==============================] - 3s 2ms/step\n",
      "Precision:  0.08418367346938775\n",
      "Recall:  0.88\n",
      "F1-Score:  0.15366705471478465\n"
     ]
    }
   ],
   "source": [
    "import matplotlib.pyplot as plt\n",
    "from sklearn.metrics import confusion_matrix, precision_recall_curve, roc_auc_score, roc_curve,f1_score,precision_score,recall_score\n",
    "import seaborn as sns\n",
    "\n",
    "\n",
    "# Use the model to make predictions on the validation data\n",
    "val_probabilities = model.predict(testX)\n",
    "val_predictions =np.round(val_probabilities)\n",
    "\n",
    "# Calculate the precision, recall, and f1-score\n",
    "precision = precision_score(testY, val_predictions)\n",
    "recall = recall_score(testY, val_predictions)\n",
    "f1 = f1_score(testY, val_predictions)\n",
    "\n",
    "print(\"Precision: \", precision)\n",
    "print(\"Recall: \", recall)\n",
    "print(\"F1-Score: \", f1)"
   ]
  },
  {
   "cell_type": "markdown",
   "id": "1a5f4183",
   "metadata": {},
   "source": [
    "The method chosen in this model to handle the imbalanced data was not correct. <br/>\n",
    "The model over predicted the data to be fraud. While it was good for recall (almost 1) it was bad for precision, which is almost 0"
   ]
  },
  {
   "cell_type": "markdown",
   "id": "f0873694",
   "metadata": {
    "id": "f0873694"
   },
   "source": [
    "# Plot model loss"
   ]
  },
  {
   "cell_type": "code",
   "execution_count": null,
   "id": "2326ab49",
   "metadata": {
    "id": "2326ab49",
    "outputId": "6bbdb16f-3327-4a80-d4f5-0a8616d7e1fe"
   },
   "outputs": [
    {
     "data": {
      "image/png": "[encoded data removed]",
      "text/plain": [
       "<Figure size 432x288 with 1 Axes>"
      ]
     },
     "metadata": {
      "needs_background": "light"
     },
     "output_type": "display_data"
    }
   ],
   "source": [
    "plt.plot(history.history[\"loss\"])\n",
    "plt.plot(history.history[\"val_loss\"])\n",
    "plt.title(\"Model Loss\")\n",
    "plt.ylabel(\"Loss\")\n",
    "plt.xlabel(\"Epoch\")\n",
    "plt.legend([\"Train\", \"Validation\"], loc=\"upper right\")\n",
    "plt.show()"
   ]
  },
  {
   "cell_type": "markdown",
   "id": "f8bb25d2",
   "metadata": {
    "id": "f8bb25d2"
   },
   "source": [
    "# Confusion matrix"
   ]
  },
  {
   "cell_type": "code",
   "execution_count": null,
   "id": "9396cbcb",
   "metadata": {
    "id": "9396cbcb",
    "outputId": "c13b38b0-643f-482f-f8f9-474ef8f1ee44"
   },
   "outputs": [
    {
     "data": {
      "image/png": "[encoded data removed]",
      "text/plain": [
       "<Figure size 576x576 with 2 Axes>"
      ]
     },
     "metadata": {
      "needs_background": "light"
     },
     "output_type": "display_data"
    }
   ],
   "source": [
    "# Plot the confusion matrix\n",
    "cm = confusion_matrix(testY, val_predictions)\n",
    "plt.figure(figsize=(8, 8))\n",
    "sns.heatmap(cm, annot=True, fmt=\"d\")\n",
    "plt.title(\"Confusion matrix\")\n",
    "plt.ylabel(\"True label\")\n",
    "plt.xlabel(\"Predicted label\")\n",
    "plt.show()"
   ]
  },
  {
   "cell_type": "markdown",
   "id": "64654bf7",
   "metadata": {
    "id": "64654bf7"
   },
   "source": [
    "# First prediction conclutions:\n",
    "We did not choose a corret method to handle the imbalanced data, we would try another method.\n",
    "while the model predicted all the data to be fraud. \n",
    "recall = 1\n",
    "but percision is almost 0\n"
   ]
  },
  {
   "cell_type": "markdown",
   "id": "3181f70b",
   "metadata": {
    "id": "3181f70b"
   },
   "source": [
    "# Over Samaling using smote"
   ]
  },
  {
   "cell_type": "markdown",
   "id": "1fdf7893",
   "metadata": {},
   "source": [
    "Measurements <br/>\n",
    "Model: SMOTE <br/>\n",
    "Hidden Layers: 2 <br/>\n",
    "Activation: relu <br/>\n",
    "Loss Function: binary_crossentropy <br/>\n",
    "Optimizer: adam <br/>\n",
    "Metrics: metrics\n"
   ]
  },
  {
   "cell_type": "code",
   "execution_count": null,
   "id": "b19adc32",
   "metadata": {
    "id": "b19adc32",
    "outputId": "61f89491-79d4-49be-b4b3-81a74be9d4d0",
    "scrolled": true
   },
   "outputs": [
    {
     "name": "stdout",
     "output_type": "stream",
     "text": [
      "Epoch 1/40\n",
      "182/182 [==============================] - 2s 8ms/step - loss: 0.4319 - fn: 13460.0000 - fp: 33785.0000 - tn: 239160.0000 - tp: 123048.0000 - precision: 0.7846 - recall: 0.9014 - val_loss: 0.1482 - val_fn: 8033.0000 - val_fp: 0.0000e+00 - val_tn: 0.0000e+00 - val_tp: 82939.0000 - val_precision: 1.0000 - val_recall: 0.9117\n",
      "Epoch 2/40\n",
      "182/182 [==============================] - 1s 6ms/step - loss: 0.1124 - fn: 10753.0000 - fp: 1881.0000 - tn: 225547.0000 - tp: 125703.0000 - precision: 0.9853 - recall: 0.9212 - val_loss: 0.1344 - val_fn: 6579.0000 - val_fp: 0.0000e+00 - val_tn: 0.0000e+00 - val_tp: 84393.0000 - val_precision: 1.0000 - val_recall: 0.9277\n",
      "Epoch 3/40\n",
      "182/182 [==============================] - 1s 6ms/step - loss: 0.0807 - fn: 8795.0000 - fp: 1709.0000 - tn: 225719.0000 - tp: 127661.0000 - precision: 0.9868 - recall: 0.9355 - val_loss: 0.1386 - val_fn: 6081.0000 - val_fp: 0.0000e+00 - val_tn: 0.0000e+00 - val_tp: 84891.0000 - val_precision: 1.0000 - val_recall: 0.9332\n",
      "Epoch 4/40\n",
      "182/182 [==============================] - 1s 6ms/step - loss: 0.0684 - fn: 7473.0000 - fp: 1623.0000 - tn: 225805.0000 - tp: 128983.0000 - precision: 0.9876 - recall: 0.9452 - val_loss: 0.1029 - val_fn: 4676.0000 - val_fp: 0.0000e+00 - val_tn: 0.0000e+00 - val_tp: 86296.0000 - val_precision: 1.0000 - val_recall: 0.9486\n",
      "Epoch 5/40\n",
      "182/182 [==============================] - 1s 6ms/step - loss: 0.0599 - fn: 6592.0000 - fp: 1458.0000 - tn: 225970.0000 - tp: 129864.0000 - precision: 0.9889 - recall: 0.9517 - val_loss: 0.0929 - val_fn: 4384.0000 - val_fp: 0.0000e+00 - val_tn: 0.0000e+00 - val_tp: 86588.0000 - val_precision: 1.0000 - val_recall: 0.9518\n",
      "Epoch 6/40\n",
      "182/182 [==============================] - 1s 6ms/step - loss: 0.0546 - fn: 6100.0000 - fp: 1419.0000 - tn: 226009.0000 - tp: 130356.0000 - precision: 0.9892 - recall: 0.9553 - val_loss: 0.0969 - val_fn: 4388.0000 - val_fp: 0.0000e+00 - val_tn: 0.0000e+00 - val_tp: 86584.0000 - val_precision: 1.0000 - val_recall: 0.9518\n",
      "Epoch 7/40\n",
      "182/182 [==============================] - 1s 6ms/step - loss: 0.0485 - fn: 5564.0000 - fp: 1380.0000 - tn: 226048.0000 - tp: 130892.0000 - precision: 0.9896 - recall: 0.9592 - val_loss: 0.0693 - val_fn: 3538.0000 - val_fp: 0.0000e+00 - val_tn: 0.0000e+00 - val_tp: 87434.0000 - val_precision: 1.0000 - val_recall: 0.9611\n",
      "Epoch 8/40\n",
      "182/182 [==============================] - 1s 6ms/step - loss: 0.0459 - fn: 5085.0000 - fp: 1389.0000 - tn: 226039.0000 - tp: 131371.0000 - precision: 0.9895 - recall: 0.9627 - val_loss: 0.0650 - val_fn: 3158.0000 - val_fp: 0.0000e+00 - val_tn: 0.0000e+00 - val_tp: 87814.0000 - val_precision: 1.0000 - val_recall: 0.9653\n",
      "Epoch 9/40\n",
      "182/182 [==============================] - 1s 5ms/step - loss: 0.0415 - fn: 4474.0000 - fp: 1280.0000 - tn: 226148.0000 - tp: 131982.0000 - precision: 0.9904 - recall: 0.9672 - val_loss: 0.0496 - val_fn: 2508.0000 - val_fp: 0.0000e+00 - val_tn: 0.0000e+00 - val_tp: 88464.0000 - val_precision: 1.0000 - val_recall: 0.9724\n",
      "Epoch 10/40\n",
      "182/182 [==============================] - 1s 6ms/step - loss: 0.0379 - fn: 3943.0000 - fp: 1235.0000 - tn: 226193.0000 - tp: 132513.0000 - precision: 0.9908 - recall: 0.9711 - val_loss: 0.0495 - val_fn: 2340.0000 - val_fp: 0.0000e+00 - val_tn: 0.0000e+00 - val_tp: 88632.0000 - val_precision: 1.0000 - val_recall: 0.9743\n",
      "Epoch 11/40\n",
      "182/182 [==============================] - 1s 6ms/step - loss: 0.0351 - fn: 3463.0000 - fp: 1168.0000 - tn: 226260.0000 - tp: 132993.0000 - precision: 0.9913 - recall: 0.9746 - val_loss: 0.0443 - val_fn: 1999.0000 - val_fp: 0.0000e+00 - val_tn: 0.0000e+00 - val_tp: 88973.0000 - val_precision: 1.0000 - val_recall: 0.9780\n",
      "Epoch 12/40\n",
      "182/182 [==============================] - 1s 6ms/step - loss: 0.0328 - fn: 3065.0000 - fp: 1175.0000 - tn: 226253.0000 - tp: 133391.0000 - precision: 0.9913 - recall: 0.9775 - val_loss: 0.0513 - val_fn: 2200.0000 - val_fp: 0.0000e+00 - val_tn: 0.0000e+00 - val_tp: 88772.0000 - val_precision: 1.0000 - val_recall: 0.9758\n",
      "Epoch 13/40\n",
      "182/182 [==============================] - 1s 6ms/step - loss: 0.0316 - fn: 2885.0000 - fp: 1162.0000 - tn: 226266.0000 - tp: 133571.0000 - precision: 0.9914 - recall: 0.9789 - val_loss: 0.0689 - val_fn: 2513.0000 - val_fp: 0.0000e+00 - val_tn: 0.0000e+00 - val_tp: 88459.0000 - val_precision: 1.0000 - val_recall: 0.9724\n",
      "Epoch 14/40\n",
      "182/182 [==============================] - 1s 5ms/step - loss: 0.0297 - fn: 2627.0000 - fp: 1125.0000 - tn: 226303.0000 - tp: 133829.0000 - precision: 0.9917 - recall: 0.9807 - val_loss: 0.0379 - val_fn: 1638.0000 - val_fp: 0.0000e+00 - val_tn: 0.0000e+00 - val_tp: 89334.0000 - val_precision: 1.0000 - val_recall: 0.9820\n",
      "Epoch 15/40\n",
      "182/182 [==============================] - 1s 5ms/step - loss: 0.0274 - fn: 2360.0000 - fp: 1071.0000 - tn: 226357.0000 - tp: 134096.0000 - precision: 0.9921 - recall: 0.9827 - val_loss: 0.0360 - val_fn: 1581.0000 - val_fp: 0.0000e+00 - val_tn: 0.0000e+00 - val_tp: 89391.0000 - val_precision: 1.0000 - val_recall: 0.9826\n",
      "Epoch 16/40\n",
      "182/182 [==============================] - 1s 6ms/step - loss: 0.0268 - fn: 2260.0000 - fp: 1069.0000 - tn: 226359.0000 - tp: 134196.0000 - precision: 0.9921 - recall: 0.9834 - val_loss: 0.0307 - val_fn: 1313.0000 - val_fp: 0.0000e+00 - val_tn: 0.0000e+00 - val_tp: 89659.0000 - val_precision: 1.0000 - val_recall: 0.9856\n",
      "Epoch 17/40\n",
      "182/182 [==============================] - 1s 5ms/step - loss: 0.0245 - fn: 2032.0000 - fp: 1005.0000 - tn: 226423.0000 - tp: 134424.0000 - precision: 0.9926 - recall: 0.9851 - val_loss: 0.0315 - val_fn: 1217.0000 - val_fp: 0.0000e+00 - val_tn: 0.0000e+00 - val_tp: 89755.0000 - val_precision: 1.0000 - val_recall: 0.9866\n",
      "Epoch 18/40\n",
      "182/182 [==============================] - 1s 5ms/step - loss: 0.0244 - fn: 1854.0000 - fp: 994.0000 - tn: 226434.0000 - tp: 134602.0000 - precision: 0.9927 - recall: 0.9864 - val_loss: 0.0319 - val_fn: 1147.0000 - val_fp: 0.0000e+00 - val_tn: 0.0000e+00 - val_tp: 89825.0000 - val_precision: 1.0000 - val_recall: 0.9874\n",
      "Epoch 19/40\n",
      "182/182 [==============================] - 1s 6ms/step - loss: 0.0219 - fn: 1556.0000 - fp: 942.0000 - tn: 226486.0000 - tp: 134900.0000 - precision: 0.9931 - recall: 0.9886 - val_loss: 0.0255 - val_fn: 795.0000 - val_fp: 0.0000e+00 - val_tn: 0.0000e+00 - val_tp: 90177.0000 - val_precision: 1.0000 - val_recall: 0.9913\n",
      "Epoch 20/40\n",
      "182/182 [==============================] - 1s 6ms/step - loss: 0.0207 - fn: 1306.0000 - fp: 897.0000 - tn: 226531.0000 - tp: 135150.0000 - precision: 0.9934 - recall: 0.9904 - val_loss: 0.0233 - val_fn: 626.0000 - val_fp: 0.0000e+00 - val_tn: 0.0000e+00 - val_tp: 90346.0000 - val_precision: 1.0000 - val_recall: 0.9931\n",
      "Epoch 21/40\n",
      "182/182 [==============================] - 1s 6ms/step - loss: 0.0198 - fn: 1135.0000 - fp: 902.0000 - tn: 226526.0000 - tp: 135321.0000 - precision: 0.9934 - recall: 0.9917 - val_loss: 0.0237 - val_fn: 631.0000 - val_fp: 0.0000e+00 - val_tn: 0.0000e+00 - val_tp: 90341.0000 - val_precision: 1.0000 - val_recall: 0.9931\n",
      "Epoch 22/40\n",
      "182/182 [==============================] - 1s 6ms/step - loss: 0.0194 - fn: 1056.0000 - fp: 876.0000 - tn: 226552.0000 - tp: 135400.0000 - precision: 0.9936 - recall: 0.9923 - val_loss: 0.0211 - val_fn: 550.0000 - val_fp: 0.0000e+00 - val_tn: 0.0000e+00 - val_tp: 90422.0000 - val_precision: 1.0000 - val_recall: 0.9940\n",
      "Epoch 23/40\n",
      "182/182 [==============================] - 1s 6ms/step - loss: 0.0188 - fn: 911.0000 - fp: 889.0000 - tn: 226539.0000 - tp: 135545.0000 - precision: 0.9935 - recall: 0.9933 - val_loss: 0.0245 - val_fn: 657.0000 - val_fp: 0.0000e+00 - val_tn: 0.0000e+00 - val_tp: 90315.0000 - val_precision: 1.0000 - val_recall: 0.9928\n",
      "Epoch 24/40\n",
      "182/182 [==============================] - 1s 6ms/step - loss: 0.0171 - fn: 745.0000 - fp: 825.0000 - tn: 226603.0000 - tp: 135711.0000 - precision: 0.9940 - recall: 0.9945 - val_loss: 0.0200 - val_fn: 456.0000 - val_fp: 0.0000e+00 - val_tn: 0.0000e+00 - val_tp: 90516.0000 - val_precision: 1.0000 - val_recall: 0.9950\n",
      "Epoch 25/40\n",
      "182/182 [==============================] - 1s 6ms/step - loss: 0.0172 - fn: 741.0000 - fp: 842.0000 - tn: 226586.0000 - tp: 135715.0000 - precision: 0.9938 - recall: 0.9946 - val_loss: 0.0165 - val_fn: 300.0000 - val_fp: 0.0000e+00 - val_tn: 0.0000e+00 - val_tp: 90672.0000 - val_precision: 1.0000 - val_recall: 0.9967\n"
     ]
    },
    {
     "name": "stdout",
     "output_type": "stream",
     "text": [
      "Epoch 26/40\n",
      "182/182 [==============================] - 1s 6ms/step - loss: 0.0158 - fn: 597.0000 - fp: 782.0000 - tn: 226646.0000 - tp: 135859.0000 - precision: 0.9943 - recall: 0.9956 - val_loss: 0.0171 - val_fn: 326.0000 - val_fp: 0.0000e+00 - val_tn: 0.0000e+00 - val_tp: 90646.0000 - val_precision: 1.0000 - val_recall: 0.9964\n",
      "Epoch 27/40\n",
      "182/182 [==============================] - 1s 6ms/step - loss: 0.0156 - fn: 578.0000 - fp: 773.0000 - tn: 226655.0000 - tp: 135878.0000 - precision: 0.9943 - recall: 0.9958 - val_loss: 0.0147 - val_fn: 223.0000 - val_fp: 0.0000e+00 - val_tn: 0.0000e+00 - val_tp: 90749.0000 - val_precision: 1.0000 - val_recall: 0.9975\n",
      "Epoch 28/40\n",
      "182/182 [==============================] - 1s 6ms/step - loss: 0.0149 - fn: 545.0000 - fp: 756.0000 - tn: 226672.0000 - tp: 135911.0000 - precision: 0.9945 - recall: 0.9960 - val_loss: 0.0155 - val_fn: 258.0000 - val_fp: 0.0000e+00 - val_tn: 0.0000e+00 - val_tp: 90714.0000 - val_precision: 1.0000 - val_recall: 0.9972\n",
      "Epoch 29/40\n",
      "182/182 [==============================] - 1s 6ms/step - loss: 0.0143 - fn: 480.0000 - fp: 736.0000 - tn: 226692.0000 - tp: 135976.0000 - precision: 0.9946 - recall: 0.9965 - val_loss: 0.0171 - val_fn: 265.0000 - val_fp: 0.0000e+00 - val_tn: 0.0000e+00 - val_tp: 90707.0000 - val_precision: 1.0000 - val_recall: 0.9971\n",
      "Epoch 30/40\n",
      "182/182 [==============================] - 1s 6ms/step - loss: 0.0142 - fn: 465.0000 - fp: 742.0000 - tn: 226686.0000 - tp: 135991.0000 - precision: 0.9946 - recall: 0.9966 - val_loss: 0.0131 - val_fn: 200.0000 - val_fp: 0.0000e+00 - val_tn: 0.0000e+00 - val_tp: 90772.0000 - val_precision: 1.0000 - val_recall: 0.9978\n",
      "Epoch 31/40\n",
      "182/182 [==============================] - 1s 6ms/step - loss: 0.0128 - fn: 339.0000 - fp: 668.0000 - tn: 226760.0000 - tp: 136117.0000 - precision: 0.9951 - recall: 0.9975 - val_loss: 0.0242 - val_fn: 613.0000 - val_fp: 0.0000e+00 - val_tn: 0.0000e+00 - val_tp: 90359.0000 - val_precision: 1.0000 - val_recall: 0.9933\n",
      "Epoch 32/40\n",
      "182/182 [==============================] - 1s 5ms/step - loss: 0.0128 - fn: 364.0000 - fp: 672.0000 - tn: 226756.0000 - tp: 136092.0000 - precision: 0.9951 - recall: 0.9973 - val_loss: 0.0129 - val_fn: 185.0000 - val_fp: 0.0000e+00 - val_tn: 0.0000e+00 - val_tp: 90787.0000 - val_precision: 1.0000 - val_recall: 0.9980\n",
      "Epoch 33/40\n",
      "182/182 [==============================] - 1s 6ms/step - loss: 0.0130 - fn: 397.0000 - fp: 686.0000 - tn: 226742.0000 - tp: 136059.0000 - precision: 0.9950 - recall: 0.9971 - val_loss: 0.0111 - val_fn: 109.0000 - val_fp: 0.0000e+00 - val_tn: 0.0000e+00 - val_tp: 90863.0000 - val_precision: 1.0000 - val_recall: 0.9988\n",
      "Epoch 34/40\n",
      "182/182 [==============================] - 1s 5ms/step - loss: 0.0128 - fn: 343.0000 - fp: 690.0000 - tn: 226738.0000 - tp: 136113.0000 - precision: 0.9950 - recall: 0.9975 - val_loss: 0.0118 - val_fn: 137.0000 - val_fp: 0.0000e+00 - val_tn: 0.0000e+00 - val_tp: 90835.0000 - val_precision: 1.0000 - val_recall: 0.9985\n",
      "Epoch 35/40\n",
      "182/182 [==============================] - 1s 6ms/step - loss: 0.0116 - fn: 278.0000 - fp: 629.0000 - tn: 226799.0000 - tp: 136178.0000 - precision: 0.9954 - recall: 0.9980 - val_loss: 0.0128 - val_fn: 168.0000 - val_fp: 0.0000e+00 - val_tn: 0.0000e+00 - val_tp: 90804.0000 - val_precision: 1.0000 - val_recall: 0.9982\n",
      "Epoch 36/40\n",
      "182/182 [==============================] - 1s 6ms/step - loss: 0.0115 - fn: 291.0000 - fp: 649.0000 - tn: 226779.0000 - tp: 136165.0000 - precision: 0.9953 - recall: 0.9979 - val_loss: 0.0095 - val_fn: 89.0000 - val_fp: 0.0000e+00 - val_tn: 0.0000e+00 - val_tp: 90883.0000 - val_precision: 1.0000 - val_recall: 0.9990\n",
      "Epoch 37/40\n",
      "182/182 [==============================] - 1s 6ms/step - loss: 0.0110 - fn: 241.0000 - fp: 614.0000 - tn: 226814.0000 - tp: 136215.0000 - precision: 0.9955 - recall: 0.9982 - val_loss: 0.0089 - val_fn: 80.0000 - val_fp: 0.0000e+00 - val_tn: 0.0000e+00 - val_tp: 90892.0000 - val_precision: 1.0000 - val_recall: 0.9991\n",
      "Epoch 38/40\n",
      "182/182 [==============================] - 1s 6ms/step - loss: 0.0111 - fn: 267.0000 - fp: 614.0000 - tn: 226814.0000 - tp: 136189.0000 - precision: 0.9955 - recall: 0.9980 - val_loss: 0.0094 - val_fn: 77.0000 - val_fp: 0.0000e+00 - val_tn: 0.0000e+00 - val_tp: 90895.0000 - val_precision: 1.0000 - val_recall: 0.9992\n",
      "Epoch 39/40\n",
      "182/182 [==============================] - 1s 6ms/step - loss: 0.0120 - fn: 314.0000 - fp: 669.0000 - tn: 226759.0000 - tp: 136142.0000 - precision: 0.9951 - recall: 0.9977 - val_loss: 0.0101 - val_fn: 104.0000 - val_fp: 0.0000e+00 - val_tn: 0.0000e+00 - val_tp: 90868.0000 - val_precision: 1.0000 - val_recall: 0.9989\n",
      "Epoch 40/40\n",
      "182/182 [==============================] - 1s 6ms/step - loss: 0.0108 - fn: 273.0000 - fp: 606.0000 - tn: 226822.0000 - tp: 136183.0000 - precision: 0.9956 - recall: 0.9980 - val_loss: 0.0104 - val_fn: 99.0000 - val_fp: 0.0000e+00 - val_tn: 0.0000e+00 - val_tp: 90873.0000 - val_precision: 1.0000 - val_recall: 0.9989\n"
     ]
    }
   ],
   "source": [
    "import pandas as pd\n",
    "from imblearn.over_sampling import SMOTE\n",
    "\n",
    "\n",
    "\n",
    "from tensorflow.keras import layers, models\n",
    "from sklearn.utils import class_weight\n",
    "\n",
    "\n",
    "\n",
    "#split train and test \n",
    "train_size = int(len(df) * 0.8)\n",
    "test_size = (len(df) - (train_size))\n",
    "\n",
    "\n",
    "\n",
    "train_data = df.iloc[:train_size].copy()\n",
    "test_data = df.iloc[-test_size:].copy()\n",
    "\n",
    "\n",
    "\n",
    "# #normalize the data:\n",
    "# cols_to_norm = ['V1', 'V2', 'V3', 'V4', 'V5', 'V6', 'V7', 'V8', 'V9', 'V10',\n",
    "#        'V11', 'V12', 'V13', 'V14', 'V15', 'V16', 'V17', 'V18', 'V19', 'V20',\n",
    "#        'V21', 'V22', 'V23', 'V24', 'V25', 'V26', 'V27', 'V28', 'Amount']\n",
    "# scalerX = MinMaxScaler()\n",
    "# scalerX.fit_transform(train_data[cols_to_norm])\n",
    "\n",
    "\n",
    "# train_data[cols_to_norm] = scalerX.transform(train_data[cols_to_norm] )\n",
    "# test_data[cols_to_norm] = scalerX.transform(test_data[cols_to_norm] )\n",
    "\n",
    "\n",
    "trainY = np.array(train_data[\"Class\"])\n",
    "testY = np.array(test_data[\"Class\"])\n",
    "trainX =  np.array(train_data.drop(columns=[\"Class\",\"Time\"]))\n",
    "testX =  np.array(test_data.drop(columns=[\"Class\",\"Time\"]))\n",
    "\n",
    "# Apply SMOTE to balance the dataset\n",
    "smote = SMOTE(random_state=42)\n",
    "X_resampled, y_resampled = smote.fit_resample(trainX,trainY)\n",
    "\n",
    "\n",
    "\n",
    "\n",
    "# Define a neural network model\n",
    "model = models.Sequential([\n",
    "    layers.Dense(32, activation='relu', input_shape=(trainX.shape[1],)),\n",
    "    layers.Dense(1, activation='sigmoid')\n",
    "    \n",
    "])\n",
    "\n",
    "\n",
    "# Compile the model with binary cross-entropy loss\n",
    "model.compile(loss='binary_crossentropy', optimizer='adam', metrics=metrics)\n",
    "\n",
    "# Train the model with class weights using the fit() method\n",
    "history = model.fit(X_resampled, y_resampled, epochs=40, batch_size=2000, validation_split=0.2)"
   ]
  },
  {
   "cell_type": "markdown",
   "id": "db750bda",
   "metadata": {
    "id": "db750bda"
   },
   "source": [
    "# Evaluate the results:"
   ]
  },
  {
   "cell_type": "code",
   "execution_count": null,
   "id": "f9164d65",
   "metadata": {
    "id": "f9164d65",
    "outputId": "1d4f45a0-0801-425b-d9be-2b540a8419b9"
   },
   "outputs": [
    {
     "name": "stdout",
     "output_type": "stream",
     "text": [
      "1781/1781 [==============================] - 3s 2ms/step\n",
      "Precision:  0.33519553072625696\n",
      "Recall:  0.8\n",
      "F1-Score:  0.4724409448818897\n"
     ]
    }
   ],
   "source": [
    "import matplotlib.pyplot as plt\n",
    "from sklearn.metrics import confusion_matrix, precision_recall_curve, roc_auc_score, roc_curve,f1_score,precision_score,recall_score\n",
    "import seaborn as sns\n",
    "\n",
    "\n",
    "# Use the model to make predictions on the validation data\n",
    "val_probabilities = model.predict(testX)\n",
    "val_predictions =np.round(val_probabilities)\n",
    "\n",
    "# Calculate the precision, recall, and f1-score\n",
    "precision = precision_score(testY, val_predictions)\n",
    "recall = recall_score(testY, val_predictions)\n",
    "f1 = f1_score(testY, val_predictions)\n",
    "\n",
    "print(\"Precision: \", precision)\n",
    "print(\"Recall: \", recall)\n",
    "print(\"F1-Score: \", f1)"
   ]
  },
  {
   "cell_type": "markdown",
   "id": "9adfce8b",
   "metadata": {},
   "source": [
    "While the model kept its high Recall score on validation set, it did not sufficiently improve its precision. <br/>\n",
    "But it is in the right direction so we will try to play with the model parameters to achieve better precision while keeping and improving recall rate. "
   ]
  },
  {
   "cell_type": "markdown",
   "id": "7a82abe5",
   "metadata": {
    "id": "7a82abe5"
   },
   "source": [
    "# Plot model loss"
   ]
  },
  {
   "cell_type": "code",
   "execution_count": null,
   "id": "42d80b06",
   "metadata": {
    "id": "42d80b06",
    "outputId": "140ee3ee-d717-49d6-d0c4-a78b0c60e5df"
   },
   "outputs": [
    {
     "data": {
      "image/png": "[encoded data removed]",
      "text/plain": [
       "<Figure size 432x288 with 1 Axes>"
      ]
     },
     "metadata": {
      "needs_background": "light"
     },
     "output_type": "display_data"
    }
   ],
   "source": [
    "plt.plot(history.history[\"loss\"])\n",
    "plt.plot(history.history[\"val_loss\"])\n",
    "plt.title(\"Model Loss\")\n",
    "plt.ylabel(\"Loss\")\n",
    "plt.xlabel(\"Epoch\")\n",
    "plt.legend([\"Train\", \"Validation\"], loc=\"upper right\")\n",
    "plt.show()"
   ]
  },
  {
   "cell_type": "markdown",
   "id": "c20f21ce",
   "metadata": {
    "id": "c20f21ce"
   },
   "source": [
    "# Confusion matrix"
   ]
  },
  {
   "cell_type": "code",
   "execution_count": null,
   "id": "a8715453",
   "metadata": {
    "id": "a8715453",
    "outputId": "3855dbc0-4884-4d27-f761-6278b83e87d3"
   },
   "outputs": [
    {
     "data": {
      "image/png": "[encoded data removed]",
      "text/plain": [
       "<Figure size 576x576 with 2 Axes>"
      ]
     },
     "metadata": {
      "needs_background": "light"
     },
     "output_type": "display_data"
    }
   ],
   "source": [
    "# Plot the confusion matrix\n",
    "cm = confusion_matrix(testY, val_predictions)\n",
    "plt.figure(figsize=(8, 8))\n",
    "sns.heatmap(cm, annot=True, fmt=\"d\")\n",
    "plt.title(\"Confusion matrix\")\n",
    "plt.ylabel(\"True label\")\n",
    "plt.xlabel(\"Predicted label\")\n",
    "plt.show()"
   ]
  },
  {
   "cell_type": "markdown",
   "id": "7fbc6618",
   "metadata": {
    "id": "7fbc6618"
   },
   "source": [
    "# Lets Continue with this and try to comlicate the model and play with some parameters"
   ]
  },
  {
   "cell_type": "markdown",
   "id": "046397e2",
   "metadata": {},
   "source": [
    "Measurements <br/>\n",
    "Model: SMOTE <br/>\n",
    "Hidden Layers: 3 (256 > 10 > 1) <br/>\n",
    "Activation: relu <br/>\n",
    "Loss Function: binary_crossentropy <br/>\n",
    "Optimizer: adam <br/>\n",
    "Metrics: metrics\n"
   ]
  },
  {
   "cell_type": "code",
   "execution_count": null,
   "id": "29708bea",
   "metadata": {
    "id": "29708bea",
    "outputId": "18a9cf5b-f177-44b1-f929-ec24a1be9b0b"
   },
   "outputs": [
    {
     "name": "stdout",
     "output_type": "stream",
     "text": [
      "Epoch 1/20\n",
      "7278/7278 [==============================] - 32s 4ms/step - loss: 0.0905 - fn: 3454.0000 - fp: 2518.0000 - tn: 452338.0000 - tp: 360430.0000 - precision: 0.9931 - recall: 0.9905 - val_loss: 0.0264 - val_fn: 695.0000 - val_fp: 0.0000e+00 - val_tn: 0.0000e+00 - val_tp: 90277.0000 - val_precision: 1.0000 - val_recall: 0.9924\n",
      "Epoch 2/20\n",
      "7278/7278 [==============================] - 31s 4ms/step - loss: 0.0249 - fn: 1702.0000 - fp: 915.0000 - tn: 226513.0000 - tp: 134754.0000 - precision: 0.9933 - recall: 0.9875 - val_loss: 0.0187 - val_fn: 531.0000 - val_fp: 0.0000e+00 - val_tn: 0.0000e+00 - val_tp: 90441.0000 - val_precision: 1.0000 - val_recall: 0.9942\n",
      "Epoch 3/20\n",
      "7278/7278 [==============================] - 31s 4ms/step - loss: 0.0147 - fn: 754.0000 - fp: 799.0000 - tn: 226629.0000 - tp: 135702.0000 - precision: 0.9941 - recall: 0.9945 - val_loss: 0.0137 - val_fn: 329.0000 - val_fp: 0.0000e+00 - val_tn: 0.0000e+00 - val_tp: 90643.0000 - val_precision: 1.0000 - val_recall: 0.9964\n",
      "Epoch 4/20\n",
      "7278/7278 [==============================] - 31s 4ms/step - loss: 0.0117 - fn: 588.0000 - fp: 637.0000 - tn: 226791.0000 - tp: 135868.0000 - precision: 0.9953 - recall: 0.9957 - val_loss: 0.0101 - val_fn: 294.0000 - val_fp: 0.0000e+00 - val_tn: 0.0000e+00 - val_tp: 90678.0000 - val_precision: 1.0000 - val_recall: 0.9968\n",
      "Epoch 5/20\n",
      "7278/7278 [==============================] - 31s 4ms/step - loss: 0.0102 - fn: 473.0000 - fp: 584.0000 - tn: 226844.0000 - tp: 135983.0000 - precision: 0.9957 - recall: 0.9965 - val_loss: 0.0049 - val_fn: 72.0000 - val_fp: 0.0000e+00 - val_tn: 0.0000e+00 - val_tp: 90900.0000 - val_precision: 1.0000 - val_recall: 0.9992\n",
      "Epoch 6/20\n",
      "7278/7278 [==============================] - 31s 4ms/step - loss: 0.0082 - fn: 368.0000 - fp: 551.0000 - tn: 226877.0000 - tp: 136088.0000 - precision: 0.9960 - recall: 0.9973 - val_loss: 0.0742 - val_fn: 1580.0000 - val_fp: 0.0000e+00 - val_tn: 0.0000e+00 - val_tp: 89392.0000 - val_precision: 1.0000 - val_recall: 0.9826\n",
      "Epoch 7/20\n",
      "7278/7278 [==============================] - 30s 4ms/step - loss: 0.0075 - fn: 346.0000 - fp: 519.0000 - tn: 226909.0000 - tp: 136110.0000 - precision: 0.9962 - recall: 0.9975 - val_loss: 0.0023 - val_fn: 15.0000 - val_fp: 0.0000e+00 - val_tn: 0.0000e+00 - val_tp: 90957.0000 - val_precision: 1.0000 - val_recall: 0.9998\n",
      "Epoch 8/20\n",
      "7278/7278 [==============================] - 29s 4ms/step - loss: 0.0067 - fn: 280.0000 - fp: 431.0000 - tn: 226997.0000 - tp: 136176.0000 - precision: 0.9968 - recall: 0.9979 - val_loss: 0.0022 - val_fn: 3.0000 - val_fp: 0.0000e+00 - val_tn: 0.0000e+00 - val_tp: 90969.0000 - val_precision: 1.0000 - val_recall: 1.0000\n",
      "Epoch 9/20\n",
      "7278/7278 [==============================] - 29s 4ms/step - loss: 0.0069 - fn: 257.0000 - fp: 533.0000 - tn: 226895.0000 - tp: 136199.0000 - precision: 0.9961 - recall: 0.9981 - val_loss: 0.0015 - val_fn: 24.0000 - val_fp: 0.0000e+00 - val_tn: 0.0000e+00 - val_tp: 90948.0000 - val_precision: 1.0000 - val_recall: 0.9997\n",
      "Epoch 10/20\n",
      "7278/7278 [==============================] - 30s 4ms/step - loss: 0.0061 - fn: 208.0000 - fp: 504.0000 - tn: 226924.0000 - tp: 136248.0000 - precision: 0.9963 - recall: 0.9985 - val_loss: 0.0029 - val_fn: 17.0000 - val_fp: 0.0000e+00 - val_tn: 0.0000e+00 - val_tp: 90955.0000 - val_precision: 1.0000 - val_recall: 0.9998\n",
      "Epoch 11/20\n",
      "7278/7278 [==============================] - 30s 4ms/step - loss: 0.0056 - fn: 201.0000 - fp: 360.0000 - tn: 227068.0000 - tp: 136255.0000 - precision: 0.9974 - recall: 0.9985 - val_loss: 0.0039 - val_fn: 64.0000 - val_fp: 0.0000e+00 - val_tn: 0.0000e+00 - val_tp: 90908.0000 - val_precision: 1.0000 - val_recall: 0.9993\n",
      "Epoch 12/20\n",
      "7278/7278 [==============================] - 31s 4ms/step - loss: 0.0055 - fn: 188.0000 - fp: 352.0000 - tn: 227076.0000 - tp: 136268.0000 - precision: 0.9974 - recall: 0.9986 - val_loss: 0.0013 - val_fn: 35.0000 - val_fp: 0.0000e+00 - val_tn: 0.0000e+00 - val_tp: 90937.0000 - val_precision: 1.0000 - val_recall: 0.9996\n",
      "Epoch 13/20\n",
      "7278/7278 [==============================] - 30s 4ms/step - loss: 0.0055 - fn: 199.0000 - fp: 404.0000 - tn: 227024.0000 - tp: 136257.0000 - precision: 0.9970 - recall: 0.9985 - val_loss: 0.0012 - val_fn: 5.0000 - val_fp: 0.0000e+00 - val_tn: 0.0000e+00 - val_tp: 90967.0000 - val_precision: 1.0000 - val_recall: 0.9999\n",
      "Epoch 14/20\n",
      "7278/7278 [==============================] - 31s 4ms/step - loss: 0.0053 - fn: 173.0000 - fp: 405.0000 - tn: 227023.0000 - tp: 136283.0000 - precision: 0.9970 - recall: 0.9987 - val_loss: 0.0092 - val_fn: 120.0000 - val_fp: 0.0000e+00 - val_tn: 0.0000e+00 - val_tp: 90852.0000 - val_precision: 1.0000 - val_recall: 0.9987\n",
      "Epoch 15/20\n",
      "7278/7278 [==============================] - 30s 4ms/step - loss: 0.0051 - fn: 160.0000 - fp: 420.0000 - tn: 227008.0000 - tp: 136296.0000 - precision: 0.9969 - recall: 0.9988 - val_loss: 0.0015 - val_fn: 0.0000e+00 - val_fp: 0.0000e+00 - val_tn: 0.0000e+00 - val_tp: 90972.0000 - val_precision: 1.0000 - val_recall: 1.0000\n",
      "Epoch 16/20\n",
      "7278/7278 [==============================] - 30s 4ms/step - loss: 0.0053 - fn: 157.0000 - fp: 522.0000 - tn: 226906.0000 - tp: 136299.0000 - precision: 0.9962 - recall: 0.9988 - val_loss: 0.0024 - val_fn: 54.0000 - val_fp: 0.0000e+00 - val_tn: 0.0000e+00 - val_tp: 90918.0000 - val_precision: 1.0000 - val_recall: 0.9994\n",
      "Epoch 17/20\n",
      "7278/7278 [==============================] - 31s 4ms/step - loss: 0.0047 - fn: 139.0000 - fp: 374.0000 - tn: 227054.0000 - tp: 136317.0000 - precision: 0.9973 - recall: 0.9990 - val_loss: 5.2306e-04 - val_fn: 0.0000e+00 - val_fp: 0.0000e+00 - val_tn: 0.0000e+00 - val_tp: 90972.0000 - val_precision: 1.0000 - val_recall: 1.0000\n",
      "Epoch 18/20\n",
      "7278/7278 [==============================] - 30s 4ms/step - loss: 0.0053 - fn: 183.0000 - fp: 352.0000 - tn: 227076.0000 - tp: 136273.0000 - precision: 0.9974 - recall: 0.9987 - val_loss: 0.0029 - val_fn: 43.0000 - val_fp: 0.0000e+00 - val_tn: 0.0000e+00 - val_tp: 90929.0000 - val_precision: 1.0000 - val_recall: 0.9995\n",
      "Epoch 19/20\n",
      "7278/7278 [==============================] - 31s 4ms/step - loss: 0.0048 - fn: 154.0000 - fp: 343.0000 - tn: 227085.0000 - tp: 136302.0000 - precision: 0.9975 - recall: 0.9989 - val_loss: 0.0017 - val_fn: 3.0000 - val_fp: 0.0000e+00 - val_tn: 0.0000e+00 - val_tp: 90969.0000 - val_precision: 1.0000 - val_recall: 1.0000\n",
      "Epoch 20/20\n",
      "7278/7278 [==============================] - 30s 4ms/step - loss: 0.0042 - fn: 146.0000 - fp: 269.0000 - tn: 227159.0000 - tp: 136310.0000 - precision: 0.9980 - recall: 0.9989 - val_loss: 0.0013 - val_fn: 0.0000e+00 - val_fp: 0.0000e+00 - val_tn: 0.0000e+00 - val_tp: 90972.0000 - val_precision: 1.0000 - val_recall: 1.0000\n"
     ]
    }
   ],
   "source": [
    "\n",
    "# Define a neural network model\n",
    "model = models.Sequential([\n",
    "    layers.Dense(256, activation='relu', input_shape=(trainX.shape[1],)),\n",
    "    layers.Dense(10, activation='relu'),\n",
    "    layers.Dense(1, activation='sigmoid')\n",
    "    \n",
    "])\n",
    "\n",
    "\n",
    "# Compile the model with binary cross-entropy loss\n",
    "model.compile(loss='binary_crossentropy', optimizer='adam', metrics=metrics)\n",
    "\n",
    "# Train the model with class weights using the fit() method\n",
    "history = model.fit(X_resampled, y_resampled, epochs=20, batch_size=50, validation_split=0.2)"
   ]
  },
  {
   "cell_type": "markdown",
   "id": "47f9d3c0",
   "metadata": {
    "id": "47f9d3c0"
   },
   "source": [
    "# Evaluate the results:"
   ]
  },
  {
   "cell_type": "code",
   "execution_count": null,
   "id": "3320e510",
   "metadata": {
    "id": "3320e510",
    "outputId": "2b3898d7-b10e-40db-aaed-4a1efb87bd78"
   },
   "outputs": [
    {
     "name": "stdout",
     "output_type": "stream",
     "text": [
      "1781/1781 [==============================] - 4s 2ms/step\n",
      "Precision:  0.35294117647058826\n",
      "Recall:  0.8\n",
      "F1-Score:  0.489795918367347\n"
     ]
    }
   ],
   "source": [
    "import matplotlib.pyplot as plt\n",
    "from sklearn.metrics import confusion_matrix, precision_recall_curve, roc_auc_score, roc_curve,f1_score,precision_score,recall_score\n",
    "import seaborn as sns\n",
    "\n",
    "\n",
    "# Use the model to make predictions on the validation data\n",
    "val_probabilities = model.predict(testX)\n",
    "val_predictions =np.round(val_probabilities)\n",
    "\n",
    "# Calculate the precision, recall, and f1-score\n",
    "precision = precision_score(testY, val_predictions)\n",
    "recall = recall_score(testY, val_predictions)\n",
    "f1 = f1_score(testY, val_predictions)\n",
    "\n",
    "print(\"Precision: \", precision)\n",
    "print(\"Recall: \", recall)\n",
    "print(\"F1-Score: \", f1)"
   ]
  },
  {
   "cell_type": "markdown",
   "id": "8d7c5b71",
   "metadata": {},
   "source": [
    "Recall remains flat, precision slightly improves. <br/>\n",
    "Addition unreported changes in the parameters did not have other improving effect on overall score."
   ]
  },
  {
   "cell_type": "markdown",
   "id": "c09c882b",
   "metadata": {
    "id": "c09c882b"
   },
   "source": [
    "# Plot model loss"
   ]
  },
  {
   "cell_type": "code",
   "execution_count": null,
   "id": "e8335f4f",
   "metadata": {
    "id": "e8335f4f",
    "outputId": "5c3564e7-997e-4b8f-ac97-4b3d86574f21"
   },
   "outputs": [
    {
     "data": {
      "image/png": "[encoded data removed]",
      "text/plain": [
       "<Figure size 432x288 with 1 Axes>"
      ]
     },
     "metadata": {
      "needs_background": "light"
     },
     "output_type": "display_data"
    }
   ],
   "source": [
    "plt.plot(history.history[\"loss\"])\n",
    "plt.plot(history.history[\"val_loss\"])\n",
    "plt.title(\"Model Loss\")\n",
    "plt.ylabel(\"Loss\")\n",
    "plt.xlabel(\"Epoch\")\n",
    "plt.legend([\"Train\", \"Validation\"], loc=\"upper right\")\n",
    "plt.show()"
   ]
  },
  {
   "cell_type": "markdown",
   "id": "0c46bcb7",
   "metadata": {
    "id": "0c46bcb7"
   },
   "source": [
    "# Confusion matrix"
   ]
  },
  {
   "cell_type": "code",
   "execution_count": null,
   "id": "1247e599",
   "metadata": {
    "id": "1247e599",
    "outputId": "22019521-6384-4d84-c96e-1245b12aaaa0"
   },
   "outputs": [
    {
     "data": {
      "image/png": "[encoded data removed]",
      "text/plain": [
       "<Figure size 576x576 with 2 Axes>"
      ]
     },
     "metadata": {
      "needs_background": "light"
     },
     "output_type": "display_data"
    }
   ],
   "source": [
    "# Plot the confusion matrix\n",
    "cm = confusion_matrix(testY, val_predictions)\n",
    "plt.figure(figsize=(8, 8))\n",
    "sns.heatmap(cm, annot=True, fmt=\"d\")\n",
    "plt.title(\"Confusion matrix\")\n",
    "plt.ylabel(\"True label\")\n",
    "plt.xlabel(\"Predicted label\")\n",
    "plt.show()"
   ]
  },
  {
   "cell_type": "markdown",
   "id": "0ce408d8",
   "metadata": {
    "id": "0ce408d8"
   },
   "source": [
    "# Lets See if time has an effect!"
   ]
  },
  {
   "cell_type": "code",
   "execution_count": null,
   "id": "f2127d12",
   "metadata": {
    "id": "f2127d12"
   },
   "outputs": [],
   "source": [
    "def sliding_windows(data, history_samples, horizon_samples):\n",
    "    x = []\n",
    "    y = []\n",
    "    for i in range(len(data)-history_samples-horizon_samples):\n",
    "        _y = data.iloc[i+history_samples:i+history_samples+horizon_samples,29:30]\n",
    "        y.append(_y)\n",
    "    data_x = data\n",
    "    data_x = data_x.drop(columns=[\"Class\"])\n",
    "    for i in range(len(data)-history_samples-horizon_samples):\n",
    "        _x = data_x.iloc[i:(i+history_samples)]\n",
    "        x.append(_x)\n",
    "    return np.array(x),np.array(y)\n"
   ]
  },
  {
   "cell_type": "code",
   "execution_count": null,
   "id": "8e23a512",
   "metadata": {
    "id": "8e23a512"
   },
   "outputs": [],
   "source": [
    "history_samples=30\n",
    "horizon_samples=1\n",
    "\n",
    "# df = df.drop(columns=[\"Time\"])\n",
    "# split into train and test sets\n",
    "train_size = int(len(df) * 0.8)-(history_samples+horizon_samples)\n",
    "test_size = (len(df) - (train_size  + history_samples + horizon_samples))\n",
    "\n",
    "\n",
    "\n",
    "train_data = df.iloc[:train_size].copy()\n",
    "test_data = df.iloc[-test_size:].copy()\n",
    "\n",
    "# #normalize the data:\n",
    "\n",
    "# scalerX = MinMaxScaler()\n",
    "# scalerX.fit_transform(train_data[cols_to_norm])\n",
    "\n",
    "\n",
    "# train_data[cols_to_norm] = scalerX.transform(train_data[cols_to_norm] )\n",
    "# test_data[cols_to_norm] = scalerX.transform(test_data[cols_to_norm] )\n",
    "\n",
    "\n",
    "\n",
    "# train_data['Class'] = train_data['Class']\n",
    "\n",
    "# test_data['Class'] = test_data['Class']\n",
    "\n",
    "# create train and test sets\n",
    "trainX,trainY =  sliding_windows(train_data, history_samples, horizon_samples)\n",
    "testX,testY = sliding_windows(test_data, history_samples, horizon_samples)\n",
    "\n"
   ]
  },
  {
   "cell_type": "code",
   "execution_count": null,
   "id": "78b428fc",
   "metadata": {
    "id": "78b428fc",
    "outputId": "533ec911-13c5-4d9d-d065-2478a91e62b0"
   },
   "outputs": [],
   "source": [
    "from tensorflow import keras\n",
    "\n",
    "# Apply SMOTE to balance the dataset\n",
    "# smote = SMOTE(random_state=42)\n",
    "# new_shape = (len(trainY)  ,1)\n",
    "# X_resampled, y_resampled = smote.fit_resample(trainX,trainY.reshape(new_shape))\n",
    "\n",
    "cols_to_norm = ['V1', 'V2', 'V3', 'V4', 'V5', 'V6', 'V7', 'V8', 'V9', 'V10',\n",
    "       'V11', 'V12', 'V13', 'V14', 'V15', 'V16', 'V17', 'V18', 'V19', 'V20',\n",
    "       'V21', 'V22', 'V23', 'V24', 'V25', 'V26', 'V27', 'V28', 'Amount']\n",
    "n_features = len(cols_to_norm)\n",
    "\n",
    "\n",
    "# Build the LSTM model \n",
    "\n",
    "model = Sequential()\n",
    "model.add(LSTM(units=52, activation='relu',return_sequences=False, input_shape=(history_samples, n_features)))\n",
    "\n",
    "# model.add(LSTM(units=120, activation='selu',return_sequences=False, input_shape=(n_steps, n_features)))\n",
    "model.add(Dense(1, activation='sigmoid'))\n",
    "\n",
    "model.compile(optimizer='adam', loss='binary_crossentropy', metrics=metrics)\n",
    "\n",
    "# Train the model\n",
    "model.fit(np.array(X_undersampled),np.array(y_undersampled) , epochs=10, batch_size = 2000)\n",
    "\n"
   ]
  },
  {
   "cell_type": "code",
   "execution_count": null,
   "id": "91cc961e",
   "metadata": {
    "id": "91cc961e",
    "outputId": "994daaf8-ab0a-4c9c-81b6-b564754dc669"
   },
   "outputs": [
    {
     "name": "stdout",
     "output_type": "stream",
     "text": [
      "Epoch 1/10\n",
      "16/16 [==============================] - 4s 65ms/step - loss: 0.5408 - fn: 2.0000 - fp: 181.0000 - tn: 787.0000 - tp: 0.0000e+00 - precision: 0.0000e+00 - recall: 0.0000e+00 - val_loss: 0.3834 - val_fn: 0.0000e+00 - val_fp: 0.0000e+00 - val_tn: 195.0000 - val_tp: 0.0000e+00 - val_precision: 0.0000e+00 - val_recall: 0.0000e+00\n",
      "Epoch 2/10\n",
      "16/16 [==============================] - 0s 15ms/step - loss: 0.2557 - fn: 2.0000 - fp: 0.0000e+00 - tn: 777.0000 - tp: 0.0000e+00 - precision: 0.0000e+00 - recall: 0.0000e+00 - val_loss: 0.1824 - val_fn: 0.0000e+00 - val_fp: 0.0000e+00 - val_tn: 195.0000 - val_tp: 0.0000e+00 - val_precision: 0.0000e+00 - val_recall: 0.0000e+00\n",
      "Epoch 3/10\n",
      "16/16 [==============================] - 0s 16ms/step - loss: 0.1246 - fn: 2.0000 - fp: 0.0000e+00 - tn: 777.0000 - tp: 0.0000e+00 - precision: 0.0000e+00 - recall: 0.0000e+00 - val_loss: 0.0715 - val_fn: 0.0000e+00 - val_fp: 0.0000e+00 - val_tn: 195.0000 - val_tp: 0.0000e+00 - val_precision: 0.0000e+00 - val_recall: 0.0000e+00\n",
      "Epoch 4/10\n",
      "16/16 [==============================] - 0s 14ms/step - loss: 0.0583 - fn: 2.0000 - fp: 0.0000e+00 - tn: 777.0000 - tp: 0.0000e+00 - precision: 0.0000e+00 - recall: 0.0000e+00 - val_loss: 0.0400 - val_fn: 0.0000e+00 - val_fp: 0.0000e+00 - val_tn: 195.0000 - val_tp: 0.0000e+00 - val_precision: 0.0000e+00 - val_recall: 0.0000e+00\n",
      "Epoch 5/10\n",
      "16/16 [==============================] - 0s 16ms/step - loss: 0.0379 - fn: 2.0000 - fp: 0.0000e+00 - tn: 777.0000 - tp: 0.0000e+00 - precision: 0.0000e+00 - recall: 0.0000e+00 - val_loss: 0.0220 - val_fn: 0.0000e+00 - val_fp: 0.0000e+00 - val_tn: 195.0000 - val_tp: 0.0000e+00 - val_precision: 0.0000e+00 - val_recall: 0.0000e+00\n",
      "Epoch 6/10\n",
      "16/16 [==============================] - 0s 15ms/step - loss: 0.0287 - fn: 2.0000 - fp: 0.0000e+00 - tn: 777.0000 - tp: 0.0000e+00 - precision: 0.0000e+00 - recall: 0.0000e+00 - val_loss: 0.0149 - val_fn: 0.0000e+00 - val_fp: 0.0000e+00 - val_tn: 195.0000 - val_tp: 0.0000e+00 - val_precision: 0.0000e+00 - val_recall: 0.0000e+00\n",
      "Epoch 7/10\n",
      "16/16 [==============================] - 0s 14ms/step - loss: 0.0244 - fn: 2.0000 - fp: 0.0000e+00 - tn: 777.0000 - tp: 0.0000e+00 - precision: 0.0000e+00 - recall: 0.0000e+00 - val_loss: 0.0115 - val_fn: 0.0000e+00 - val_fp: 0.0000e+00 - val_tn: 195.0000 - val_tp: 0.0000e+00 - val_precision: 0.0000e+00 - val_recall: 0.0000e+00\n",
      "Epoch 8/10\n",
      "16/16 [==============================] - 0s 14ms/step - loss: 0.0225 - fn: 2.0000 - fp: 0.0000e+00 - tn: 777.0000 - tp: 0.0000e+00 - precision: 0.0000e+00 - recall: 0.0000e+00 - val_loss: 0.0099 - val_fn: 0.0000e+00 - val_fp: 0.0000e+00 - val_tn: 195.0000 - val_tp: 0.0000e+00 - val_precision: 0.0000e+00 - val_recall: 0.0000e+00\n",
      "Epoch 9/10\n",
      "16/16 [==============================] - 0s 15ms/step - loss: 0.0214 - fn: 2.0000 - fp: 0.0000e+00 - tn: 777.0000 - tp: 0.0000e+00 - precision: 0.0000e+00 - recall: 0.0000e+00 - val_loss: 0.0086 - val_fn: 0.0000e+00 - val_fp: 0.0000e+00 - val_tn: 195.0000 - val_tp: 0.0000e+00 - val_precision: 0.0000e+00 - val_recall: 0.0000e+00\n",
      "Epoch 10/10\n",
      "16/16 [==============================] - 0s 16ms/step - loss: 0.0205 - fn: 2.0000 - fp: 0.0000e+00 - tn: 777.0000 - tp: 0.0000e+00 - precision: 0.0000e+00 - recall: 0.0000e+00 - val_loss: 0.0077 - val_fn: 0.0000e+00 - val_fp: 0.0000e+00 - val_tn: 195.0000 - val_tp: 0.0000e+00 - val_precision: 0.0000e+00 - val_recall: 0.0000e+00\n"
     ]
    },
    {
     "data": {
      "text/plain": [
       "<keras.callbacks.History at 0x178037dacd0>"
      ]
     },
     "execution_count": 135,
     "metadata": {},
     "output_type": "execute_result"
    }
   ],
   "source": [
    "import numpy as np\n",
    "import pandas as pd\n",
    "\n",
    "\n",
    "\n",
    "# Separate input variables and target variable\n",
    "X = data.drop(columns = ['Class','Time'], axis=1)\n",
    "y = data['Class']\n",
    "\n",
    "# Determine the number of samples for the minority class\n",
    "minority_class_size = np.sum(y == 1)\n",
    "\n",
    "# Find the indices of the minority class\n",
    "minority_class_indices = np.where(y == 1)[0]\n",
    "\n",
    "# Select a random subset of the majority class\n",
    "majority_class_indices = np.random.choice(np.where(y == 0)[0], size=minority_class_size, replace=False)\n",
    "\n",
    "# Combine the minority class indices with the selected majority class indices\n",
    "undersampled_indices = np.concatenate([minority_class_indices, majority_class_indices])\n",
    "\n",
    "# Sort the indices in chronological order\n",
    "undersampled_indices.sort()\n",
    "\n",
    "# Create sliding windows of length 30\n",
    "window_size = 10\n",
    "X_windows = []\n",
    "y_windows = []\n",
    "for i in range(window_size, len(undersampled_indices)):\n",
    "    window_indices = undersampled_indices[i-window_size:i]\n",
    "    X_window = X.iloc[window_indices]\n",
    "    y_window = y.iloc[i]\n",
    "    X_windows.append(X_window)\n",
    "    y_windows.append(y_window)\n",
    "\n",
    "# Convert windows to numpy arrays\n",
    "X_windows = np.array(X_windows)\n",
    "y_windows = np.array(y_windows)\n",
    "\n",
    "# Split data into training and validation sets\n",
    "split_index = int(0.8 * len(X_windows))\n",
    "X_train = X_windows[:split_index]\n",
    "y_train = y_windows[:split_index]\n",
    "X_val = X_windows[split_index:]\n",
    "y_val = y_windows[split_index:]\n",
    "\n",
    "# Define and train LSTM model\n",
    "from tensorflow.keras.models import Sequential\n",
    "from tensorflow.keras.layers import LSTM, Dense\n",
    "\n",
    "model = Sequential()\n",
    "model.add(LSTM(32, input_shape=(window_size, X_train.shape[2])))\n",
    "model.add(Dense(1, activation='sigmoid'))\n",
    "\n",
    "model.compile(loss='binary_crossentropy', optimizer='adam', metrics=metrics)\n",
    "\n",
    "model.fit(X_train, y_train, epochs=10,batch_size =50, validation_data=(X_val, y_val))"
   ]
  },
  {
   "cell_type": "code",
   "execution_count": null,
   "id": "058c5017",
   "metadata": {},
   "outputs": [],
   "source": []
  },
  {
   "cell_type": "code",
   "execution_count": null,
   "id": "333a372f",
   "metadata": {
    "id": "333a372f",
    "outputId": "f6cf3dd2-882c-4926-f249-58be6dd2dfa4"
   },
   "outputs": [
    {
     "data": {
      "text/html": [
       "<div>\n",
       "<style scoped>\n",
       "    .dataframe tbody tr th:only-of-type {\n",
       "        vertical-align: middle;\n",
       "    }\n",
       "\n",
       "    .dataframe tbody tr th {\n",
       "        vertical-align: top;\n",
       "    }\n",
       "\n",
       "    .dataframe thead th {\n",
       "        text-align: right;\n",
       "    }\n",
       "</style>\n",
       "<table border=\"1\" class=\"dataframe\">\n",
       "  <thead>\n",
       "    <tr style=\"text-align: right;\">\n",
       "      <th></th>\n",
       "      <th>V1</th>\n",
       "      <th>V2</th>\n",
       "      <th>V3</th>\n",
       "      <th>V4</th>\n",
       "      <th>V5</th>\n",
       "      <th>V6</th>\n",
       "      <th>V7</th>\n",
       "      <th>V8</th>\n",
       "      <th>V9</th>\n",
       "      <th>V10</th>\n",
       "      <th>...</th>\n",
       "      <th>V20</th>\n",
       "      <th>V21</th>\n",
       "      <th>V22</th>\n",
       "      <th>V23</th>\n",
       "      <th>V24</th>\n",
       "      <th>V25</th>\n",
       "      <th>V26</th>\n",
       "      <th>V27</th>\n",
       "      <th>V28</th>\n",
       "      <th>Amount</th>\n",
       "    </tr>\n",
       "  </thead>\n",
       "  <tbody>\n",
       "    <tr>\n",
       "      <th>541</th>\n",
       "      <td>-2.312227</td>\n",
       "      <td>1.951992</td>\n",
       "      <td>-1.609851</td>\n",
       "      <td>3.997906</td>\n",
       "      <td>-0.522188</td>\n",
       "      <td>-1.426545</td>\n",
       "      <td>-2.537387</td>\n",
       "      <td>1.391657</td>\n",
       "      <td>-2.770089</td>\n",
       "      <td>-2.772272</td>\n",
       "      <td>...</td>\n",
       "      <td>0.126911</td>\n",
       "      <td>0.517232</td>\n",
       "      <td>-0.035049</td>\n",
       "      <td>-0.465211</td>\n",
       "      <td>0.320198</td>\n",
       "      <td>0.044519</td>\n",
       "      <td>0.177840</td>\n",
       "      <td>0.261145</td>\n",
       "      <td>-0.143276</td>\n",
       "      <td>0.00</td>\n",
       "    </tr>\n",
       "    <tr>\n",
       "      <th>582</th>\n",
       "      <td>-0.679293</td>\n",
       "      <td>1.120837</td>\n",
       "      <td>1.319394</td>\n",
       "      <td>1.249827</td>\n",
       "      <td>1.147786</td>\n",
       "      <td>-0.086534</td>\n",
       "      <td>1.001436</td>\n",
       "      <td>-0.039752</td>\n",
       "      <td>-1.374497</td>\n",
       "      <td>0.012874</td>\n",
       "      <td>...</td>\n",
       "      <td>-0.011141</td>\n",
       "      <td>0.067521</td>\n",
       "      <td>0.030112</td>\n",
       "      <td>-0.296954</td>\n",
       "      <td>-0.619850</td>\n",
       "      <td>0.282799</td>\n",
       "      <td>-0.059404</td>\n",
       "      <td>0.048695</td>\n",
       "      <td>0.109200</td>\n",
       "      <td>25.03</td>\n",
       "    </tr>\n",
       "    <tr>\n",
       "      <th>623</th>\n",
       "      <td>-3.043541</td>\n",
       "      <td>-3.157307</td>\n",
       "      <td>1.088463</td>\n",
       "      <td>2.288644</td>\n",
       "      <td>1.359805</td>\n",
       "      <td>-1.064823</td>\n",
       "      <td>0.325574</td>\n",
       "      <td>-0.067794</td>\n",
       "      <td>-0.270953</td>\n",
       "      <td>-0.838587</td>\n",
       "      <td>...</td>\n",
       "      <td>2.102339</td>\n",
       "      <td>0.661696</td>\n",
       "      <td>0.435477</td>\n",
       "      <td>1.375966</td>\n",
       "      <td>-0.293803</td>\n",
       "      <td>0.279798</td>\n",
       "      <td>-0.145362</td>\n",
       "      <td>-0.252773</td>\n",
       "      <td>0.035764</td>\n",
       "      <td>529.00</td>\n",
       "    </tr>\n",
       "    <tr>\n",
       "      <th>1534</th>\n",
       "      <td>1.364563</td>\n",
       "      <td>-1.178268</td>\n",
       "      <td>0.650371</td>\n",
       "      <td>-1.283988</td>\n",
       "      <td>-1.740504</td>\n",
       "      <td>-0.877664</td>\n",
       "      <td>-0.948682</td>\n",
       "      <td>-0.222741</td>\n",
       "      <td>-1.824012</td>\n",
       "      <td>1.366103</td>\n",
       "      <td>...</td>\n",
       "      <td>-0.145875</td>\n",
       "      <td>-0.319807</td>\n",
       "      <td>-0.707460</td>\n",
       "      <td>0.110777</td>\n",
       "      <td>0.357286</td>\n",
       "      <td>0.122213</td>\n",
       "      <td>-0.419706</td>\n",
       "      <td>0.032784</td>\n",
       "      <td>0.043429</td>\n",
       "      <td>84.68</td>\n",
       "    </tr>\n",
       "    <tr>\n",
       "      <th>1809</th>\n",
       "      <td>-0.897765</td>\n",
       "      <td>0.943783</td>\n",
       "      <td>1.563014</td>\n",
       "      <td>-0.714289</td>\n",
       "      <td>-0.108453</td>\n",
       "      <td>-0.481893</td>\n",
       "      <td>0.603119</td>\n",
       "      <td>0.161312</td>\n",
       "      <td>0.117975</td>\n",
       "      <td>-0.248992</td>\n",
       "      <td>...</td>\n",
       "      <td>0.122368</td>\n",
       "      <td>-0.186295</td>\n",
       "      <td>-0.292765</td>\n",
       "      <td>-0.162413</td>\n",
       "      <td>0.343573</td>\n",
       "      <td>0.018086</td>\n",
       "      <td>0.366589</td>\n",
       "      <td>0.382679</td>\n",
       "      <td>0.214166</td>\n",
       "      <td>5.00</td>\n",
       "    </tr>\n",
       "    <tr>\n",
       "      <th>...</th>\n",
       "      <td>...</td>\n",
       "      <td>...</td>\n",
       "      <td>...</td>\n",
       "      <td>...</td>\n",
       "      <td>...</td>\n",
       "      <td>...</td>\n",
       "      <td>...</td>\n",
       "      <td>...</td>\n",
       "      <td>...</td>\n",
       "      <td>...</td>\n",
       "      <td>...</td>\n",
       "      <td>...</td>\n",
       "      <td>...</td>\n",
       "      <td>...</td>\n",
       "      <td>...</td>\n",
       "      <td>...</td>\n",
       "      <td>...</td>\n",
       "      <td>...</td>\n",
       "      <td>...</td>\n",
       "      <td>...</td>\n",
       "      <td>...</td>\n",
       "    </tr>\n",
       "    <tr>\n",
       "      <th>282968</th>\n",
       "      <td>-0.220522</td>\n",
       "      <td>0.844165</td>\n",
       "      <td>0.512722</td>\n",
       "      <td>-0.800303</td>\n",
       "      <td>0.841037</td>\n",
       "      <td>-0.260056</td>\n",
       "      <td>0.907761</td>\n",
       "      <td>-0.003434</td>\n",
       "      <td>-0.710946</td>\n",
       "      <td>-0.443150</td>\n",
       "      <td>...</td>\n",
       "      <td>-0.105729</td>\n",
       "      <td>0.295947</td>\n",
       "      <td>0.822719</td>\n",
       "      <td>-0.209855</td>\n",
       "      <td>0.748359</td>\n",
       "      <td>-0.343216</td>\n",
       "      <td>0.268052</td>\n",
       "      <td>0.107008</td>\n",
       "      <td>0.162542</td>\n",
       "      <td>4.95</td>\n",
       "    </tr>\n",
       "    <tr>\n",
       "      <th>283628</th>\n",
       "      <td>1.925960</td>\n",
       "      <td>-0.248421</td>\n",
       "      <td>-0.807847</td>\n",
       "      <td>0.338177</td>\n",
       "      <td>-0.510596</td>\n",
       "      <td>-0.729352</td>\n",
       "      <td>-0.508239</td>\n",
       "      <td>0.032435</td>\n",
       "      <td>1.368297</td>\n",
       "      <td>-0.709728</td>\n",
       "      <td>...</td>\n",
       "      <td>-0.174745</td>\n",
       "      <td>-0.234909</td>\n",
       "      <td>-0.637940</td>\n",
       "      <td>0.447438</td>\n",
       "      <td>0.931867</td>\n",
       "      <td>-0.581140</td>\n",
       "      <td>-0.335887</td>\n",
       "      <td>0.013400</td>\n",
       "      <td>0.002970</td>\n",
       "      <td>27.66</td>\n",
       "    </tr>\n",
       "    <tr>\n",
       "      <th>284144</th>\n",
       "      <td>-1.045850</td>\n",
       "      <td>2.024365</td>\n",
       "      <td>-1.508737</td>\n",
       "      <td>-0.557827</td>\n",
       "      <td>1.705748</td>\n",
       "      <td>-2.251271</td>\n",
       "      <td>1.911448</td>\n",
       "      <td>-0.126141</td>\n",
       "      <td>-1.090551</td>\n",
       "      <td>-2.534583</td>\n",
       "      <td>...</td>\n",
       "      <td>-0.215417</td>\n",
       "      <td>0.190424</td>\n",
       "      <td>0.462549</td>\n",
       "      <td>-0.876697</td>\n",
       "      <td>-0.155998</td>\n",
       "      <td>1.747265</td>\n",
       "      <td>-0.121526</td>\n",
       "      <td>-0.130087</td>\n",
       "      <td>0.001125</td>\n",
       "      <td>8.00</td>\n",
       "    </tr>\n",
       "    <tr>\n",
       "      <th>284309</th>\n",
       "      <td>-2.583118</td>\n",
       "      <td>2.936337</td>\n",
       "      <td>-1.960681</td>\n",
       "      <td>-0.190599</td>\n",
       "      <td>-1.536309</td>\n",
       "      <td>-2.011599</td>\n",
       "      <td>-0.712777</td>\n",
       "      <td>1.800044</td>\n",
       "      <td>-0.271601</td>\n",
       "      <td>-0.197815</td>\n",
       "      <td>...</td>\n",
       "      <td>-0.035834</td>\n",
       "      <td>0.535812</td>\n",
       "      <td>1.441718</td>\n",
       "      <td>0.270734</td>\n",
       "      <td>0.914286</td>\n",
       "      <td>-0.575906</td>\n",
       "      <td>-0.245615</td>\n",
       "      <td>0.314288</td>\n",
       "      <td>0.252057</td>\n",
       "      <td>0.99</td>\n",
       "    </tr>\n",
       "    <tr>\n",
       "      <th>284761</th>\n",
       "      <td>0.372024</td>\n",
       "      <td>-0.671377</td>\n",
       "      <td>0.141537</td>\n",
       "      <td>-2.881107</td>\n",
       "      <td>-0.159998</td>\n",
       "      <td>0.582176</td>\n",
       "      <td>-0.323089</td>\n",
       "      <td>0.088509</td>\n",
       "      <td>-2.129917</td>\n",
       "      <td>0.986697</td>\n",
       "      <td>...</td>\n",
       "      <td>-0.202010</td>\n",
       "      <td>-0.079283</td>\n",
       "      <td>0.149803</td>\n",
       "      <td>-0.024241</td>\n",
       "      <td>-0.360826</td>\n",
       "      <td>-0.326513</td>\n",
       "      <td>-0.242644</td>\n",
       "      <td>0.077477</td>\n",
       "      <td>0.037744</td>\n",
       "      <td>48.00</td>\n",
       "    </tr>\n",
       "  </tbody>\n",
       "</table>\n",
       "<p>984 rows × 29 columns</p>\n",
       "</div>"
      ],
      "text/plain": [
       "              V1        V2        V3        V4        V5        V6        V7  \\\n",
       "541    -2.312227  1.951992 -1.609851  3.997906 -0.522188 -1.426545 -2.537387   \n",
       "582    -0.679293  1.120837  1.319394  1.249827  1.147786 -0.086534  1.001436   \n",
       "623    -3.043541 -3.157307  1.088463  2.288644  1.359805 -1.064823  0.325574   \n",
       "1534    1.364563 -1.178268  0.650371 -1.283988 -1.740504 -0.877664 -0.948682   \n",
       "1809   -0.897765  0.943783  1.563014 -0.714289 -0.108453 -0.481893  0.603119   \n",
       "...          ...       ...       ...       ...       ...       ...       ...   \n",
       "282968 -0.220522  0.844165  0.512722 -0.800303  0.841037 -0.260056  0.907761   \n",
       "283628  1.925960 -0.248421 -0.807847  0.338177 -0.510596 -0.729352 -0.508239   \n",
       "284144 -1.045850  2.024365 -1.508737 -0.557827  1.705748 -2.251271  1.911448   \n",
       "284309 -2.583118  2.936337 -1.960681 -0.190599 -1.536309 -2.011599 -0.712777   \n",
       "284761  0.372024 -0.671377  0.141537 -2.881107 -0.159998  0.582176 -0.323089   \n",
       "\n",
       "              V8        V9       V10  ...       V20       V21       V22  \\\n",
       "541     1.391657 -2.770089 -2.772272  ...  0.126911  0.517232 -0.035049   \n",
       "582    -0.039752 -1.374497  0.012874  ... -0.011141  0.067521  0.030112   \n",
       "623    -0.067794 -0.270953 -0.838587  ...  2.102339  0.661696  0.435477   \n",
       "1534   -0.222741 -1.824012  1.366103  ... -0.145875 -0.319807 -0.707460   \n",
       "1809    0.161312  0.117975 -0.248992  ...  0.122368 -0.186295 -0.292765   \n",
       "...          ...       ...       ...  ...       ...       ...       ...   \n",
       "282968 -0.003434 -0.710946 -0.443150  ... -0.105729  0.295947  0.822719   \n",
       "283628  0.032435  1.368297 -0.709728  ... -0.174745 -0.234909 -0.637940   \n",
       "284144 -0.126141 -1.090551 -2.534583  ... -0.215417  0.190424  0.462549   \n",
       "284309  1.800044 -0.271601 -0.197815  ... -0.035834  0.535812  1.441718   \n",
       "284761  0.088509 -2.129917  0.986697  ... -0.202010 -0.079283  0.149803   \n",
       "\n",
       "             V23       V24       V25       V26       V27       V28  Amount  \n",
       "541    -0.465211  0.320198  0.044519  0.177840  0.261145 -0.143276    0.00  \n",
       "582    -0.296954 -0.619850  0.282799 -0.059404  0.048695  0.109200   25.03  \n",
       "623     1.375966 -0.293803  0.279798 -0.145362 -0.252773  0.035764  529.00  \n",
       "1534    0.110777  0.357286  0.122213 -0.419706  0.032784  0.043429   84.68  \n",
       "1809   -0.162413  0.343573  0.018086  0.366589  0.382679  0.214166    5.00  \n",
       "...          ...       ...       ...       ...       ...       ...     ...  \n",
       "282968 -0.209855  0.748359 -0.343216  0.268052  0.107008  0.162542    4.95  \n",
       "283628  0.447438  0.931867 -0.581140 -0.335887  0.013400  0.002970   27.66  \n",
       "284144 -0.876697 -0.155998  1.747265 -0.121526 -0.130087  0.001125    8.00  \n",
       "284309  0.270734  0.914286 -0.575906 -0.245615  0.314288  0.252057    0.99  \n",
       "284761 -0.024241 -0.360826 -0.326513 -0.242644  0.077477  0.037744   48.00  \n",
       "\n",
       "[984 rows x 29 columns]"
      ]
     },
     "execution_count": 130,
     "metadata": {},
     "output_type": "execute_result"
    }
   ],
   "source": [
    "X_undersampled"
   ]
  },
  {
   "cell_type": "code",
   "execution_count": null,
   "id": "14b5e46d",
   "metadata": {
    "id": "14b5e46d",
    "outputId": "5f380a09-9eff-44c7-d50f-15770fc0345f"
   },
   "outputs": [],
   "source": [
    "import matplotlib.pyplot as plt\n",
    "from sklearn.metrics import confusion_matrix, precision_recall_curve, roc_auc_score, roc_curve,f1_score,precision_score,recall_score\n",
    "import seaborn as sns\n",
    "\n",
    "\n",
    "# Use the model to make predictions on the validation data\n",
    "val_probabilities = model.predict(testX)\n",
    "val_predictions =np.round(val_probabilities)\n",
    "\n",
    "# Calculate the precision, recall, and f1-score\n",
    "precision = precision_score(testY, val_predictions)\n",
    "recall = recall_score(testY, val_predictions)\n",
    "f1 = f1_score(testY, val_predictions)\n",
    "\n",
    "print(\"Precision: \", precision)\n",
    "print(\"Recall: \", recall)\n",
    "print(\"F1-Score: \", f1)"
   ]
  },
  {
   "cell_type": "code",
   "execution_count": null,
   "id": "b316c273",
   "metadata": {
    "id": "b316c273",
    "outputId": "6628798e-b87e-4f56-dca1-1a5c34fa5775"
   },
   "outputs": [],
   "source": [
    "new_shape = (113912  ,1)\n",
    "testY.reshape(new_shape)\n",
    "precision = precision_score(val_predictions, val_predictions)\n",
    "recall = recall_score(testY, val_predictions)\n",
    "f1 = f1_score(testY, val_predictions)\n",
    "\n",
    "print(\"Precision: \", precision)\n",
    "print(\"Recall: \", recall)\n",
    "print(\"F1-Score: \", f1)"
   ]
  },
  {
   "cell_type": "markdown",
   "id": "229e824e",
   "metadata": {},
   "source": []
  }
 ],
 "metadata": {
  "colab": {
   "provenance": []
  },
  "kernelspec": {
   "display_name": "Python 3",
   "language": "python",
   "name": "python3"
  },
  "language_info": {
   "codemirror_mode": {
    "name": "ipython",
    "version": 3
   },
   "file_extension": ".py",
   "mimetype": "text/x-python",
   "name": "python",
   "nbconvert_exporter": "python",
   "pygments_lexer": "ipython3",
   "version": "3.8.8"
  }
 },
 "nbformat": 4,
 "nbformat_minor": 5
}
